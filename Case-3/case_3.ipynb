{
 "cells": [
  {
   "cell_type": "code",
   "execution_count": 2,
   "metadata": {},
   "outputs": [],
   "source": [
    "import pandas as pd\n",
    "from sodapy import Socrata\n",
    "import case_3_api as c3api\n"
   ]
  },
  {
   "cell_type": "code",
   "execution_count": 4,
   "metadata": {},
   "outputs": [
    {
     "name": "stderr",
     "output_type": "stream",
     "text": [
      "WARNING:root:Requests made without an app_token will be subject to strict throttling limits.\n"
     ]
    },
    {
     "name": "stdout",
     "output_type": "stream",
     "text": [
      "(10, 7)\n"
     ]
    },
    {
     "data": {
      "text/html": [
       "<div>\n",
       "<style scoped>\n",
       "    .dataframe tbody tr th:only-of-type {\n",
       "        vertical-align: middle;\n",
       "    }\n",
       "\n",
       "    .dataframe tbody tr th {\n",
       "        vertical-align: top;\n",
       "    }\n",
       "\n",
       "    .dataframe thead th {\n",
       "        text-align: right;\n",
       "    }\n",
       "</style>\n",
       "<table border=\"1\" class=\"dataframe\">\n",
       "  <thead>\n",
       "    <tr style=\"text-align: right;\">\n",
       "      <th></th>\n",
       "      <th>kenteken</th>\n",
       "      <th>brandstof_volgnummer</th>\n",
       "      <th>brandstof_omschrijving</th>\n",
       "      <th>emissiecode_omschrijving</th>\n",
       "      <th>uitlaatemissieniveau</th>\n",
       "      <th>opgegeven_maximum_snelheid</th>\n",
       "      <th>nettomaximumvermogen</th>\n",
       "    </tr>\n",
       "  </thead>\n",
       "  <tbody>\n",
       "    <tr>\n",
       "      <th>0</th>\n",
       "      <td>0001TJ</td>\n",
       "      <td>1</td>\n",
       "      <td>Benzine</td>\n",
       "      <td>0</td>\n",
       "      <td>EURO 0</td>\n",
       "      <td>NaN</td>\n",
       "      <td>NaN</td>\n",
       "    </tr>\n",
       "    <tr>\n",
       "      <th>1</th>\n",
       "      <td>0001TV</td>\n",
       "      <td>1</td>\n",
       "      <td>Benzine</td>\n",
       "      <td>0</td>\n",
       "      <td>EURO 0</td>\n",
       "      <td>NaN</td>\n",
       "      <td>NaN</td>\n",
       "    </tr>\n",
       "    <tr>\n",
       "      <th>2</th>\n",
       "      <td>0001VH</td>\n",
       "      <td>1</td>\n",
       "      <td>Benzine</td>\n",
       "      <td>0</td>\n",
       "      <td>NaN</td>\n",
       "      <td>NaN</td>\n",
       "      <td>NaN</td>\n",
       "    </tr>\n",
       "    <tr>\n",
       "      <th>3</th>\n",
       "      <td>0001VM</td>\n",
       "      <td>1</td>\n",
       "      <td>Benzine</td>\n",
       "      <td>0</td>\n",
       "      <td>EURO 0</td>\n",
       "      <td>NaN</td>\n",
       "      <td>NaN</td>\n",
       "    </tr>\n",
       "    <tr>\n",
       "      <th>4</th>\n",
       "      <td>0002GV</td>\n",
       "      <td>1</td>\n",
       "      <td>Diesel</td>\n",
       "      <td>NaN</td>\n",
       "      <td>NaN</td>\n",
       "      <td>25.00</td>\n",
       "      <td>NaN</td>\n",
       "    </tr>\n",
       "  </tbody>\n",
       "</table>\n",
       "</div>"
      ],
      "text/plain": [
       "  kenteken brandstof_volgnummer brandstof_omschrijving  \\\n",
       "0   0001TJ                    1                Benzine   \n",
       "1   0001TV                    1                Benzine   \n",
       "2   0001VH                    1                Benzine   \n",
       "3   0001VM                    1                Benzine   \n",
       "4   0002GV                    1                 Diesel   \n",
       "\n",
       "  emissiecode_omschrijving uitlaatemissieniveau opgegeven_maximum_snelheid  \\\n",
       "0                        0               EURO 0                        NaN   \n",
       "1                        0               EURO 0                        NaN   \n",
       "2                        0                  NaN                        NaN   \n",
       "3                        0               EURO 0                        NaN   \n",
       "4                      NaN                  NaN                      25.00   \n",
       "\n",
       "  nettomaximumvermogen  \n",
       "0                  NaN  \n",
       "1                  NaN  \n",
       "2                  NaN  \n",
       "3                  NaN  \n",
       "4                  NaN  "
      ]
     },
     "execution_count": 4,
     "metadata": {},
     "output_type": "execute_result"
    }
   ],
   "source": [
    "\n",
    "results_df = c3api.get_RDW_brandstof(limit=3000000,offset=0, where=\"brandstof_omschrijving='Elektriciteit'\")\n",
    "print(results_df.shape)\n",
    "results_df.head()"
   ]
  },
  {
   "cell_type": "code",
   "execution_count": 18,
   "metadata": {},
   "outputs": [
    {
     "data": {
      "text/plain": [
       "1224231"
      ]
     },
     "execution_count": 18,
     "metadata": {},
     "output_type": "execute_result"
    }
   ],
   "source": [
    "len(results_df)"
   ]
  },
  {
   "cell_type": "code",
   "execution_count": 10,
   "metadata": {},
   "outputs": [
    {
     "name": "stderr",
     "output_type": "stream",
     "text": [
      "WARNING:root:Requests made without an app_token will be subject to strict throttling limits.\n"
     ]
    }
   ],
   "source": [
    "df = c3api.get_RDW_brandstof(500000)"
   ]
  },
  {
   "cell_type": "code",
   "execution_count": 11,
   "metadata": {},
   "outputs": [
    {
     "data": {
      "text/plain": [
       "brandstof_omschrijving\n",
       "Benzine          413537\n",
       "Diesel            71486\n",
       "LPG                7581\n",
       "Elektriciteit      6786\n",
       "Alcohol             259\n",
       "CNG                 208\n",
       "LNG                 134\n",
       "Waterstof             9\n",
       "dtype: int64"
      ]
     },
     "execution_count": 11,
     "metadata": {},
     "output_type": "execute_result"
    }
   ],
   "source": [
    "df.value_counts('brandstof_omschrijving')"
   ]
  },
  {
   "cell_type": "code",
   "execution_count": 2,
   "metadata": {},
   "outputs": [
    {
     "name": "stderr",
     "output_type": "stream",
     "text": [
      "WARNING:root:Requests made without an app_token will be subject to strict throttling limits.\n",
      "WARNING:root:Requests made without an app_token will be subject to strict throttling limits.\n"
     ]
    },
    {
     "name": "stdout",
     "output_type": "stream",
     "text": [
      "  kenteken brandstof_volgnummer brandstof_omschrijving  \\\n",
      "0   0001TJ                    1                Benzine   \n",
      "1   0001TV                    1                Benzine   \n",
      "2   0001VH                    1                Benzine   \n",
      "3   0001VM                    1                Benzine   \n",
      "4   0002GV                    1                 Diesel   \n",
      "\n",
      "  emissiecode_omschrijving uitlaatemissieniveau opgegeven_maximum_snelheid  \\\n",
      "0                        0               EURO 0                        NaN   \n",
      "1                        0               EURO 0                        NaN   \n",
      "2                        0                  NaN                        NaN   \n",
      "3                        0               EURO 0                        NaN   \n",
      "4                      NaN                  NaN                      25.00   \n",
      "\n",
      "  nettomaximumvermogen geluidsniveau_rijdend geluidsniveau_stationair  \\\n",
      "0                  NaN                   NaN                      NaN   \n",
      "1                  NaN                   NaN                      NaN   \n",
      "2                  NaN                   NaN                      NaN   \n",
      "3                  NaN                   NaN                      NaN   \n",
      "4                  NaN                   NaN                      NaN   \n",
      "\n",
      "  roetuitstoot toerental_geluidsniveau  \n",
      "0          NaN                     NaN  \n",
      "1          NaN                     NaN  \n",
      "2          NaN                     NaN  \n",
      "3          NaN                     NaN  \n",
      "4          NaN                     NaN  \n",
      "  kenteken voertuigsoort     merk handelsbenaming vervaldatum_apk  \\\n",
      "0   H387JB  Personenauto     AUDI        A4 AVANT        20230918   \n",
      "1   H387JD  Personenauto  HYUNDAI            KONA        20240214   \n",
      "2   H387JF  Personenauto  CITROEN        BERLINGO        20230623   \n",
      "3   H387JG  Personenauto      KIA         PROCEED        20240213   \n",
      "4   H387JH  Personenauto       DS            DS 4        20240212   \n",
      "\n",
      "  datum_tenaamstelling bruto_bpm    inrichting aantal_zitplaatsen  \\\n",
      "0             20200207      4672  stationwagen                  5   \n",
      "1             20200214      1800           MPV                  5   \n",
      "2             20200611      4275  stationwagen                  5   \n",
      "3             20200213      8892     hatchback                  5   \n",
      "4             20200212      3503     hatchback                  5   \n",
      "\n",
      "  eerste_kleur  ... datum_eerste_toelating_dt  \\\n",
      "0        GRIJS  ...   2017-09-18T00:00:00.000   \n",
      "1          WIT  ...   2020-02-14T00:00:00.000   \n",
      "2        BLAUW  ...   2008-05-29T00:00:00.000   \n",
      "3          WIT  ...   2020-02-13T00:00:00.000   \n",
      "4          WIT  ...   2016-01-15T00:00:00.000   \n",
      "\n",
      "  datum_eerste_tenaamstelling_in_nederland_dt zuinigheidsclassificatie  \\\n",
      "0                     2020-02-07T00:00:00.000                        B   \n",
      "1                     2020-02-14T00:00:00.000                        A   \n",
      "2                     2020-06-11T00:00:00.000                      NaN   \n",
      "3                     2020-02-13T00:00:00.000                        C   \n",
      "4                     2020-02-12T00:00:00.000                        B   \n",
      "\n",
      "                 api_gekentekende_voertuigen_assen  \\\n",
      "0  https://opendata.rdw.nl/resource/3huj-srit.json   \n",
      "1  https://opendata.rdw.nl/resource/3huj-srit.json   \n",
      "2  https://opendata.rdw.nl/resource/3huj-srit.json   \n",
      "3  https://opendata.rdw.nl/resource/3huj-srit.json   \n",
      "4  https://opendata.rdw.nl/resource/3huj-srit.json   \n",
      "\n",
      "             api_gekentekende_voertuigen_brandstof  \\\n",
      "0  https://opendata.rdw.nl/resource/8ys7-d773.json   \n",
      "1  https://opendata.rdw.nl/resource/8ys7-d773.json   \n",
      "2  https://opendata.rdw.nl/resource/8ys7-d773.json   \n",
      "3  https://opendata.rdw.nl/resource/8ys7-d773.json   \n",
      "4  https://opendata.rdw.nl/resource/8ys7-d773.json   \n",
      "\n",
      "           api_gekentekende_voertuigen_carrosserie  \\\n",
      "0  https://opendata.rdw.nl/resource/vezc-m2t6.json   \n",
      "1  https://opendata.rdw.nl/resource/vezc-m2t6.json   \n",
      "2  https://opendata.rdw.nl/resource/vezc-m2t6.json   \n",
      "3  https://opendata.rdw.nl/resource/vezc-m2t6.json   \n",
      "4  https://opendata.rdw.nl/resource/vezc-m2t6.json   \n",
      "\n",
      "  api_gekentekende_voertuigen_carrosserie_specifiek  \\\n",
      "0   https://opendata.rdw.nl/resource/jhie-znh9.json   \n",
      "1   https://opendata.rdw.nl/resource/jhie-znh9.json   \n",
      "2   https://opendata.rdw.nl/resource/jhie-znh9.json   \n",
      "3   https://opendata.rdw.nl/resource/jhie-znh9.json   \n",
      "4   https://opendata.rdw.nl/resource/jhie-znh9.json   \n",
      "\n",
      "        api_gekentekende_voertuigen_voertuigklasse hoogte_voertuig  \\\n",
      "0  https://opendata.rdw.nl/resource/kmfi-hrps.json             NaN   \n",
      "1  https://opendata.rdw.nl/resource/kmfi-hrps.json             157   \n",
      "2  https://opendata.rdw.nl/resource/kmfi-hrps.json             NaN   \n",
      "3  https://opendata.rdw.nl/resource/kmfi-hrps.json             142   \n",
      "4  https://opendata.rdw.nl/resource/kmfi-hrps.json             NaN   \n",
      "\n",
      "                       plaats_chassisnummer  \n",
      "0                                       NaN  \n",
      "1                                       NaN  \n",
      "2  tegen r. schroefveerkoker onder motorkap  \n",
      "3                                       NaN  \n",
      "4                                       NaN  \n",
      "\n",
      "[5 rows x 61 columns]\n",
      "   IsRecentlyVerified      DateLastVerified      ID  \\\n",
      "0                True  2023-03-15T11:19:00Z  256957   \n",
      "1                True  2023-03-04T15:56:00Z  238390   \n",
      "2                True  2023-03-04T15:52:00Z  238389   \n",
      "3                True  2023-03-04T15:49:00Z  238388   \n",
      "4                True  2023-03-04T14:27:00Z  238387   \n",
      "\n",
      "                                   UUID  DataProviderID  OperatorID  \\\n",
      "0  C274DD57-63EE-4953-8723-61A928DC8A64               1         1.0   \n",
      "1  54DE6F07-8F83-4D6C-AC5C-F46C3CC5AF40               1        47.0   \n",
      "2  2A59654E-C064-4234-AD9F-9E814387FE0B               1        47.0   \n",
      "3  2C11156F-072A-416A-9489-B2D96889BD9F               1        47.0   \n",
      "4  7CC524E9-1377-47C2-97A5-B616B76DD825               1        47.0   \n",
      "\n",
      "   UsageTypeID                                        Connections  \\\n",
      "0          6.0                                                 []   \n",
      "1          4.0  [{'ID': 392175, 'ConnectionTypeID': 33, 'Statu...   \n",
      "2          4.0  [{'ID': 392173, 'ConnectionTypeID': 33, 'Statu...   \n",
      "3          4.0  [{'ID': 392171, 'ConnectionTypeID': 33, 'Statu...   \n",
      "4          4.0  [{'ID': 392170, 'ConnectionTypeID': 33, 'Statu...   \n",
      "\n",
      "   NumberOfPoints  StatusTypeID  ... ConnectionTypeID  StatusTypeID LevelID  \\\n",
      "0             1.0            50  ...              NaN           NaN     NaN   \n",
      "1             1.0            50  ...             33.0          50.0     3.0   \n",
      "2             6.0            50  ...             33.0          50.0     3.0   \n",
      "3             1.0            50  ...             33.0          50.0     3.0   \n",
      "4             2.0            50  ...             33.0          50.0     3.0   \n",
      "\n",
      "   PowerKW  CurrentTypeID Quantity Reference Amps Voltage  Comments  \n",
      "0      NaN            NaN      NaN       NaN  NaN     NaN       NaN  \n",
      "1     50.0           30.0      1.0       NaN  NaN     NaN       NaN  \n",
      "2    175.0           30.0      6.0       NaN  NaN     NaN       NaN  \n",
      "3     50.0           30.0      1.0       NaN  NaN     NaN       NaN  \n",
      "4    175.0           30.0      2.0       NaN  NaN     NaN       NaN  \n",
      "\n",
      "[5 rows x 45 columns]\n"
     ]
    }
   ],
   "source": [
    "\n",
    "print(c3api.get_RDW_brandstof(100).head())\n",
    "print(c3api.get_RDW_kenteken_df(100).head())\n",
    "print(c3api.get_OCM_df(100).head())"
   ]
  },
  {
   "cell_type": "code",
   "execution_count": 26,
   "metadata": {},
   "outputs": [
    {
     "name": "stderr",
     "output_type": "stream",
     "text": [
      "WARNING:root:Requests made without an app_token will be subject to strict throttling limits.\n"
     ]
    },
    {
     "data": {
      "text/plain": [
       "(2000, 67)"
      ]
     },
     "execution_count": 26,
     "metadata": {},
     "output_type": "execute_result"
    }
   ],
   "source": [
    "client = Socrata(\"opendata.rdw.nl\", None)\n",
    "results = client.get(\"m9d7-ebf2\", limit=2000,offset=1)\n",
    "results_df = pd.DataFrame.from_records(results)\n",
    "results_df.shape"
   ]
  },
  {
   "cell_type": "code",
   "execution_count": 17,
   "metadata": {},
   "outputs": [
    {
     "data": {
      "text/plain": [
       "92"
      ]
     },
     "execution_count": 17,
     "metadata": {},
     "output_type": "execute_result"
    }
   ],
   "source": [
    "len(client.get_metadata(\"m9d7-ebf2\")['columns'])"
   ]
  }
 ],
 "metadata": {
  "kernelspec": {
   "display_name": "Python 3",
   "language": "python",
   "name": "python3"
  },
  "language_info": {
   "codemirror_mode": {
    "name": "ipython",
    "version": 3
   },
   "file_extension": ".py",
   "mimetype": "text/x-python",
   "name": "python",
   "nbconvert_exporter": "python",
   "pygments_lexer": "ipython3",
   "version": "3.10.6"
  },
  "orig_nbformat": 4
 },
 "nbformat": 4,
 "nbformat_minor": 2
}
