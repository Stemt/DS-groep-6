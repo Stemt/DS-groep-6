{
  "cells": [
    {
      "cell_type": "markdown",
      "id": "26LBW-OZ1VVp",
      "metadata": {
        "id": "26LBW-OZ1VVp"
      },
      "source": []
    },
    {
      "cell_type": "code",
      "execution_count": 271,
      "id": "0cc31c3d-4b6f-4309-b03d-e3f0fd373acc",
      "metadata": {
        "id": "0cc31c3d-4b6f-4309-b03d-e3f0fd373acc"
      },
      "outputs": [],
      "source": [
        "\n",
        "import pandas as pd\n",
        "import numpy as np\n",
        "import matplotlib.pyplot as plt\n",
        "import os\n",
        "import seaborn as sns"
      ]
    },
    {
      "attachments": {},
      "cell_type": "markdown",
      "id": "e35f0ceb-27ab-454c-887e-4bd5e3370509",
      "metadata": {
        "id": "e35f0ceb-27ab-454c-887e-4bd5e3370509"
      },
      "source": [
        "# **De vorm van de gegevens begrijpen (Histogrammen, Heatmaps, enz.)**"
      ]
    },
    {
      "cell_type": "code",
      "execution_count": 272,
      "id": "9120fcfb-f795-477e-873d-61e2e8f1aee5",
      "metadata": {
        "id": "9120fcfb-f795-477e-873d-61e2e8f1aee5"
      },
      "outputs": [],
      "source": [
        "traindf = pd.read_csv('data/train.csv')"
      ]
    },
    {
      "cell_type": "code",
      "execution_count": 273,
      "id": "69eeeeb5-f6f2-41ac-97e2-2598cd7f9ce1",
      "metadata": {
        "colab": {
          "base_uri": "https://localhost:8080/",
          "height": 206
        },
        "id": "69eeeeb5-f6f2-41ac-97e2-2598cd7f9ce1",
        "outputId": "d5ded1e9-42d1-4ca2-950a-081549053e35"
      },
      "outputs": [
        {
          "data": {
            "text/html": [
              "<div>\n",
              "<style scoped>\n",
              "    .dataframe tbody tr th:only-of-type {\n",
              "        vertical-align: middle;\n",
              "    }\n",
              "\n",
              "    .dataframe tbody tr th {\n",
              "        vertical-align: top;\n",
              "    }\n",
              "\n",
              "    .dataframe thead th {\n",
              "        text-align: right;\n",
              "    }\n",
              "</style>\n",
              "<table border=\"1\" class=\"dataframe\">\n",
              "  <thead>\n",
              "    <tr style=\"text-align: right;\">\n",
              "      <th></th>\n",
              "      <th>PassengerId</th>\n",
              "      <th>Survived</th>\n",
              "      <th>Pclass</th>\n",
              "      <th>Name</th>\n",
              "      <th>Sex</th>\n",
              "      <th>Age</th>\n",
              "      <th>SibSp</th>\n",
              "      <th>Parch</th>\n",
              "      <th>Ticket</th>\n",
              "      <th>Fare</th>\n",
              "      <th>Cabin</th>\n",
              "      <th>Embarked</th>\n",
              "    </tr>\n",
              "  </thead>\n",
              "  <tbody>\n",
              "    <tr>\n",
              "      <th>0</th>\n",
              "      <td>1</td>\n",
              "      <td>0</td>\n",
              "      <td>3</td>\n",
              "      <td>Braund, Mr. Owen Harris</td>\n",
              "      <td>male</td>\n",
              "      <td>22.0</td>\n",
              "      <td>1</td>\n",
              "      <td>0</td>\n",
              "      <td>A/5 21171</td>\n",
              "      <td>7.2500</td>\n",
              "      <td>NaN</td>\n",
              "      <td>S</td>\n",
              "    </tr>\n",
              "    <tr>\n",
              "      <th>1</th>\n",
              "      <td>2</td>\n",
              "      <td>1</td>\n",
              "      <td>1</td>\n",
              "      <td>Cumings, Mrs. John Bradley (Florence Briggs Th...</td>\n",
              "      <td>female</td>\n",
              "      <td>38.0</td>\n",
              "      <td>1</td>\n",
              "      <td>0</td>\n",
              "      <td>PC 17599</td>\n",
              "      <td>71.2833</td>\n",
              "      <td>C85</td>\n",
              "      <td>C</td>\n",
              "    </tr>\n",
              "    <tr>\n",
              "      <th>2</th>\n",
              "      <td>3</td>\n",
              "      <td>1</td>\n",
              "      <td>3</td>\n",
              "      <td>Heikkinen, Miss. Laina</td>\n",
              "      <td>female</td>\n",
              "      <td>26.0</td>\n",
              "      <td>0</td>\n",
              "      <td>0</td>\n",
              "      <td>STON/O2. 3101282</td>\n",
              "      <td>7.9250</td>\n",
              "      <td>NaN</td>\n",
              "      <td>S</td>\n",
              "    </tr>\n",
              "    <tr>\n",
              "      <th>3</th>\n",
              "      <td>4</td>\n",
              "      <td>1</td>\n",
              "      <td>1</td>\n",
              "      <td>Futrelle, Mrs. Jacques Heath (Lily May Peel)</td>\n",
              "      <td>female</td>\n",
              "      <td>35.0</td>\n",
              "      <td>1</td>\n",
              "      <td>0</td>\n",
              "      <td>113803</td>\n",
              "      <td>53.1000</td>\n",
              "      <td>C123</td>\n",
              "      <td>S</td>\n",
              "    </tr>\n",
              "    <tr>\n",
              "      <th>4</th>\n",
              "      <td>5</td>\n",
              "      <td>0</td>\n",
              "      <td>3</td>\n",
              "      <td>Allen, Mr. William Henry</td>\n",
              "      <td>male</td>\n",
              "      <td>35.0</td>\n",
              "      <td>0</td>\n",
              "      <td>0</td>\n",
              "      <td>373450</td>\n",
              "      <td>8.0500</td>\n",
              "      <td>NaN</td>\n",
              "      <td>S</td>\n",
              "    </tr>\n",
              "  </tbody>\n",
              "</table>\n",
              "</div>"
            ],
            "text/plain": [
              "   PassengerId  Survived  Pclass  \\\n",
              "0            1         0       3   \n",
              "1            2         1       1   \n",
              "2            3         1       3   \n",
              "3            4         1       1   \n",
              "4            5         0       3   \n",
              "\n",
              "                                                Name     Sex   Age  SibSp  \\\n",
              "0                            Braund, Mr. Owen Harris    male  22.0      1   \n",
              "1  Cumings, Mrs. John Bradley (Florence Briggs Th...  female  38.0      1   \n",
              "2                             Heikkinen, Miss. Laina  female  26.0      0   \n",
              "3       Futrelle, Mrs. Jacques Heath (Lily May Peel)  female  35.0      1   \n",
              "4                           Allen, Mr. William Henry    male  35.0      0   \n",
              "\n",
              "   Parch            Ticket     Fare Cabin Embarked  \n",
              "0      0         A/5 21171   7.2500   NaN        S  \n",
              "1      0          PC 17599  71.2833   C85        C  \n",
              "2      0  STON/O2. 3101282   7.9250   NaN        S  \n",
              "3      0            113803  53.1000  C123        S  \n",
              "4      0            373450   8.0500   NaN        S  "
            ]
          },
          "execution_count": 273,
          "metadata": {},
          "output_type": "execute_result"
        }
      ],
      "source": [
        "traindf.head()"
      ]
    },
    {
      "cell_type": "code",
      "execution_count": 274,
      "id": "6q2QcD7_aeKF",
      "metadata": {
        "colab": {
          "base_uri": "https://localhost:8080/",
          "height": 320
        },
        "id": "6q2QcD7_aeKF",
        "outputId": "c8a23245-9b8f-415c-fdd1-1435b7eea048"
      },
      "outputs": [
        {
          "data": {
            "image/png": "[encoded data removed]",
            "text/plain": [
              "<Figure size 640x480 with 2 Axes>"
            ]
          },
          "metadata": {},
          "output_type": "display_data"
        }
      ],
      "source": [
        "sns.heatmap(traindf.corr(), cmap='YlGnBu')\n",
        "plt.show()"
      ]
    },
    {
      "cell_type": "code",
      "execution_count": 275,
      "id": "a3556a17-d983-4b4d-afc1-d25594df639d",
      "metadata": {
        "id": "a3556a17-d983-4b4d-afc1-d25594df639d"
      },
      "outputs": [],
      "source": [
        "# traindf.drop(columns=[\"PassengerId\", \"Name\", \"Cabin\", \"Embarked\"], inplace = True)\n",
        "# traindf"
      ]
    },
    {
      "cell_type": "markdown",
      "id": "ApzIjr2gz3ie",
      "metadata": {
        "id": "ApzIjr2gz3ie"
      },
      "source": [
        "# Survival chance by passenger class"
      ]
    },
    {
      "cell_type": "code",
      "execution_count": 276,
      "id": "7d3fa228-2d04-4a6b-8f22-89564b23802c",
      "metadata": {
        "colab": {
          "base_uri": "https://localhost:8080/",
          "height": 297
        },
        "id": "7d3fa228-2d04-4a6b-8f22-89564b23802c",
        "outputId": "b27bb949-85dc-443f-fd22-e3c049ee4e32"
      },
      "outputs": [
        {
          "name": "stdout",
          "output_type": "stream",
          "text": [
            "{'1': 0.6296296296296297, '2': 0.47282608695652173, '3': 0.24236252545824846}\n"
          ]
        },
        {
          "data": {
            "image/png": "[encoded data removed]",
            "text/plain": [
              "<Figure size 640x480 with 1 Axes>"
            ]
          },
          "metadata": {},
          "output_type": "display_data"
        }
      ],
      "source": [
        "passengers_by_class = traindf.groupby('Pclass').count()\n",
        "passengers_survived_by_class = traindf.groupby(['Pclass','Survived']).count()\n",
        "classes = [1,2,3]\n",
        "survival_chance_by_class = {}\n",
        "for pclass in classes:\n",
        "    survival_chance_by_class[str(pclass)] = (passengers_survived_by_class['PassengerId'][pclass] / passengers_by_class['PassengerId'][pclass])[1]\n",
        "print(survival_chance_by_class)\n",
        "\n",
        "fig,ax = plt.subplots()\n",
        "ax.bar(x=list(survival_chance_by_class.keys()),height=survival_chance_by_class.values(),color=['gold','silver','orange'])\n",
        "ax.set_xlabel('Reisklasse')\n",
        "ax.set_ylabel('Overlevingskans')\n",
        "ax.set_title(\"Overlevingskans per reisklasse\")\n",
        "plt.show()\n"
      ]
    },
    {
      "cell_type": "code",
      "execution_count": 277,
      "id": "Phss9yAiCh5l",
      "metadata": {
        "id": "Phss9yAiCh5l"
      },
      "outputs": [],
      "source": [
        "sibling_totals = traindf['SibSp'].value_counts()"
      ]
    },
    {
      "cell_type": "code",
      "execution_count": 278,
      "id": "PPeW5l7RCjsv",
      "metadata": {
        "id": "PPeW5l7RCjsv"
      },
      "outputs": [],
      "source": [
        "survived_siblings = traindf.loc[traindf['Survived']==1]['SibSp'].value_counts()"
      ]
    },
    {
      "cell_type": "code",
      "execution_count": 279,
      "id": "GDFgzg5eClGG",
      "metadata": {
        "colab": {
          "base_uri": "https://localhost:8080/",
          "height": 265
        },
        "id": "GDFgzg5eClGG",
        "outputId": "f7310f1e-44ff-4403-d790-771dfb5fa108"
      },
      "outputs": [
        {
          "data": {
            "image/png": "[encoded data removed]",
            "text/plain": [
              "<Figure size 640x480 with 1 Axes>"
            ]
          },
          "metadata": {},
          "output_type": "display_data"
        }
      ],
      "source": [
        "from sklearn import linear_model\n",
        "\n",
        "siblings_dictionary = {}\n",
        "siblings_dictionary\n",
        "\n",
        "sibling_data = {\n",
        "    'siblings_totals' : sibling_totals,\n",
        "    'siblings_survived' : survived_siblings\n",
        "}\n",
        "\n",
        "df = pd.DataFrame(sibling_data)\n",
        "df['siblings_survival_rate'] = df['siblings_survived'] / df['siblings_totals']\n",
        "\n",
        "siblings_dictionary['totals'] = {}\n",
        "siblings_dictionary['survived'] = {}\n",
        "\n",
        "# reg = linear_model.LinearRegression()\n",
        "# np_df = np.array([df.index,df['siblings_survival_rate']])\n",
        "# np_df = np_df.transpose()\n",
        "# np_df = np.nan_to_num(np_df, copy=True, nan=0.0, posinf=None, neginf=None)\n",
        "# print(np_df)\n",
        "# reg.fit(np_df, [0, 1, 2])\n",
        "# print(reg.coef_)\n",
        "\n",
        "\n",
        "class SiblingLinearRegression:\n",
        "    def __init__(self):\n",
        "        self.a = -0.05\n",
        "        self.b = 0.45\n",
        "\n",
        "    def f(self,x):\n",
        "        return (self.a * x) + self.b\n",
        "\n",
        "sblin = SiblingLinearRegression()\n",
        "\n",
        "line = []\n",
        "for value in df.index:\n",
        "    line.append(sblin.f(value))\n",
        "\n",
        "fig,ax = plt.subplots()\n",
        "ax.scatter(x=df.index,y=df['siblings_survival_rate'])\n",
        "ax.plot(df.index,line,c='r')\n",
        "ax.set_xlabel(\"Aantal familieleden\")\n",
        "ax.set_ylabel(\"Overlevingskans\")\n",
        "ax.set_title(\"Overlevingskans per aantal familieleden\")\n",
        "plt.show()\n"
      ]
    },
    {
      "cell_type": "code",
      "execution_count": 280,
      "id": "9HsQh-0TCnck",
      "metadata": {
        "id": "9HsQh-0TCnck"
      },
      "outputs": [],
      "source": [
        "# traindf['SibSp']=np.where(traindf['Survived']==0, 'Dood', 'levend')"
      ]
    },
    {
      "cell_type": "code",
      "execution_count": 281,
      "id": "J6ScHsO7Cpzt",
      "metadata": {
        "colab": {
          "base_uri": "https://localhost:8080/"
        },
        "id": "J6ScHsO7Cpzt",
        "outputId": "c85964e3-443e-4831-c289-6769defd00c0"
      },
      "outputs": [],
      "source": [
        "# traindf['SibSp'].value_counts() #Er is te zien dat mensen met siblings/spouse meer doden dan levenden hebben"
      ]
    },
    {
      "cell_type": "code",
      "execution_count": 282,
      "id": "mtkzyYdGCrmu",
      "metadata": {
        "id": "mtkzyYdGCrmu"
      },
      "outputs": [],
      "source": [
        "# dood,levend=traindf.SibSp.value_counts()\n",
        "\n",
        "# dood_SibSp=(dood/(dood+levend))*100\n",
        "# levend_SibSp=(levend/(dood+levend))*100"
      ]
    },
    {
      "cell_type": "code",
      "execution_count": 283,
      "id": "fUa_Y87TCtj-",
      "metadata": {
        "colab": {
          "base_uri": "https://localhost:8080/"
        },
        "id": "fUa_Y87TCtj-",
        "outputId": "9a280b88-4ebb-4f49-897f-0b3704de7d6e"
      },
      "outputs": [],
      "source": [
        "# dood_SibSp #61.6% van de mensen met Sib of Sp zijn dood "
      ]
    },
    {
      "cell_type": "code",
      "execution_count": 284,
      "id": "bQO7qPL1CvTu",
      "metadata": {
        "colab": {
          "base_uri": "https://localhost:8080/"
        },
        "id": "bQO7qPL1CvTu",
        "outputId": "878234d3-76f2-4c35-f290-b8a010f85985"
      },
      "outputs": [],
      "source": [
        "# levend_SibSp #38.38 van de mensen met Sib of Sp zijn levend "
      ]
    },
    {
      "cell_type": "code",
      "execution_count": 285,
      "id": "4692da15-3203-41a5-9bc9-4ba6bf799912",
      "metadata": {
        "colab": {
          "base_uri": "https://localhost:8080/",
          "height": 143
        },
        "id": "4692da15-3203-41a5-9bc9-4ba6bf799912",
        "outputId": "6f315c9d-6058-4a2f-ae6e-7d920ea52fdb"
      },
      "outputs": [
        {
          "data": {
            "text/html": [
              "<div>\n",
              "<style scoped>\n",
              "    .dataframe tbody tr th:only-of-type {\n",
              "        vertical-align: middle;\n",
              "    }\n",
              "\n",
              "    .dataframe tbody tr th {\n",
              "        vertical-align: top;\n",
              "    }\n",
              "\n",
              "    .dataframe thead th {\n",
              "        text-align: right;\n",
              "    }\n",
              "</style>\n",
              "<table border=\"1\" class=\"dataframe\">\n",
              "  <thead>\n",
              "    <tr style=\"text-align: right;\">\n",
              "      <th>Sex</th>\n",
              "      <th>female</th>\n",
              "      <th>male</th>\n",
              "    </tr>\n",
              "    <tr>\n",
              "      <th>Survived</th>\n",
              "      <th></th>\n",
              "      <th></th>\n",
              "    </tr>\n",
              "  </thead>\n",
              "  <tbody>\n",
              "    <tr>\n",
              "      <th>0</th>\n",
              "      <td>81</td>\n",
              "      <td>468</td>\n",
              "    </tr>\n",
              "    <tr>\n",
              "      <th>1</th>\n",
              "      <td>233</td>\n",
              "      <td>109</td>\n",
              "    </tr>\n",
              "  </tbody>\n",
              "</table>\n",
              "</div>"
            ],
            "text/plain": [
              "Sex       female  male\n",
              "Survived              \n",
              "0             81   468\n",
              "1            233   109"
            ]
          },
          "execution_count": 285,
          "metadata": {},
          "output_type": "execute_result"
        }
      ],
      "source": [
        "SurvivedbySiblings = pd.crosstab(index = traindf[\"Survived\"], columns = traindf[\"Sex\"])\n",
        "SurvivedbySiblings"
      ]
    },
    {
      "cell_type": "markdown",
      "id": "75381584-46f9-475e-b311-d3b946abbc21",
      "metadata": {
        "id": "75381584-46f9-475e-b311-d3b946abbc21"
      },
      "source": [
        "Geslacht invloed op overlevingskans"
      ]
    },
    {
      "cell_type": "code",
      "execution_count": 286,
      "id": "8cad27be-3090-417f-9427-6a0e33c2a1a6",
      "metadata": {
        "colab": {
          "base_uri": "https://localhost:8080/",
          "height": 143
        },
        "id": "8cad27be-3090-417f-9427-6a0e33c2a1a6",
        "outputId": "303aec84-24d5-4754-b6db-c2dd6dd1a657"
      },
      "outputs": [
        {
          "data": {
            "text/html": [
              "<div>\n",
              "<style scoped>\n",
              "    .dataframe tbody tr th:only-of-type {\n",
              "        vertical-align: middle;\n",
              "    }\n",
              "\n",
              "    .dataframe tbody tr th {\n",
              "        vertical-align: top;\n",
              "    }\n",
              "\n",
              "    .dataframe thead th {\n",
              "        text-align: right;\n",
              "    }\n",
              "</style>\n",
              "<table border=\"1\" class=\"dataframe\">\n",
              "  <thead>\n",
              "    <tr style=\"text-align: right;\">\n",
              "      <th>Sex</th>\n",
              "      <th>female</th>\n",
              "      <th>male</th>\n",
              "    </tr>\n",
              "    <tr>\n",
              "      <th>Survived</th>\n",
              "      <th></th>\n",
              "      <th></th>\n",
              "    </tr>\n",
              "  </thead>\n",
              "  <tbody>\n",
              "    <tr>\n",
              "      <th>0</th>\n",
              "      <td>81</td>\n",
              "      <td>468</td>\n",
              "    </tr>\n",
              "    <tr>\n",
              "      <th>1</th>\n",
              "      <td>233</td>\n",
              "      <td>109</td>\n",
              "    </tr>\n",
              "  </tbody>\n",
              "</table>\n",
              "</div>"
            ],
            "text/plain": [
              "Sex       female  male\n",
              "Survived              \n",
              "0             81   468\n",
              "1            233   109"
            ]
          },
          "execution_count": 286,
          "metadata": {},
          "output_type": "execute_result"
        }
      ],
      "source": [
        "SurvivedbySex = pd.crosstab(index = traindf[\"Survived\"], columns = traindf[\"Sex\"])\n",
        "SurvivedbySex"
      ]
    },
    {
      "cell_type": "code",
      "execution_count": 287,
      "id": "4d3c059c-f4eb-45ca-8aa0-621f4ca048c0",
      "metadata": {
        "colab": {
          "base_uri": "https://localhost:8080/"
        },
        "id": "4d3c059c-f4eb-45ca-8aa0-621f4ca048c0",
        "outputId": "5b1244e6-eb91-40b1-f8f5-1f1a4363ec7a"
      },
      "outputs": [
        {
          "name": "stdout",
          "output_type": "stream",
          "text": [
            "% of women who survived: 0.7420382165605095\n"
          ]
        }
      ],
      "source": [
        "women = traindf.loc[traindf.Sex == 'female'][\"Survived\"]\n",
        "rate_women = sum(women)/len(women)\n",
        "\n",
        "print(\"% of women who survived:\", rate_women)"
      ]
    },
    {
      "cell_type": "code",
      "execution_count": 288,
      "id": "258e5349-afd2-4710-9b1d-8d1f4d5498b8",
      "metadata": {
        "colab": {
          "base_uri": "https://localhost:8080/"
        },
        "id": "258e5349-afd2-4710-9b1d-8d1f4d5498b8",
        "outputId": "6454daa6-c404-4aba-8605-a8a8bc559817"
      },
      "outputs": [
        {
          "name": "stdout",
          "output_type": "stream",
          "text": [
            "% of men who survived: 0.18890814558058924\n"
          ]
        }
      ],
      "source": [
        "men = traindf.loc[traindf.Sex == 'male'][\"Survived\"]\n",
        "rate_men = sum(men)/len(men)\n",
        "\n",
        "print(\"% of men who survived:\", rate_men)"
      ]
    },
    {
      "cell_type": "code",
      "execution_count": 289,
      "id": "5e33ecce-cade-4bb6-b602-a48fe0d34664",
      "metadata": {
        "id": "5e33ecce-cade-4bb6-b602-a48fe0d34664"
      },
      "outputs": [],
      "source": [
        "# Dictionary gender\n",
        "genderdictionary = {\"male\" : rate_men, \n",
        "                    \"female\" : rate_women}"
      ]
    },
    {
      "cell_type": "code",
      "execution_count": 290,
      "id": "f80cc4f1-94a9-489c-9a04-b330c0f0b645",
      "metadata": {
        "colab": {
          "base_uri": "https://localhost:8080/",
          "height": 474
        },
        "id": "f80cc4f1-94a9-489c-9a04-b330c0f0b645",
        "outputId": "84380c3e-a624-45b9-f01f-2350a59237c3"
      },
      "outputs": [],
      "source": [
        "# fig,ax = plt.subplots()\n",
        "# SurvivedbySex_percentage.iloc[1]['female']\n",
        "# ax.bar(SurvivedbySex_percentage.iloc[1].index,SurvivedbySex_percentage.iloc[1])\n",
        "# plt.show()\n"
      ]
    },
    {
      "attachments": {},
      "cell_type": "markdown",
      "id": "6c7d6f5a",
      "metadata": {},
      "source": [
        "Aantal ouders / kinderen invloed op overlevingskans"
      ]
    },
    {
      "cell_type": "code",
      "execution_count": 291,
      "id": "1efc58cd",
      "metadata": {},
      "outputs": [
        {
          "data": {
            "text/html": [
              "<div>\n",
              "<style scoped>\n",
              "    .dataframe tbody tr th:only-of-type {\n",
              "        vertical-align: middle;\n",
              "    }\n",
              "\n",
              "    .dataframe tbody tr th {\n",
              "        vertical-align: top;\n",
              "    }\n",
              "\n",
              "    .dataframe thead th {\n",
              "        text-align: right;\n",
              "    }\n",
              "</style>\n",
              "<table border=\"1\" class=\"dataframe\">\n",
              "  <thead>\n",
              "    <tr style=\"text-align: right;\">\n",
              "      <th>Parch</th>\n",
              "      <th>0</th>\n",
              "      <th>1</th>\n",
              "      <th>2</th>\n",
              "      <th>3</th>\n",
              "      <th>4</th>\n",
              "      <th>5</th>\n",
              "      <th>6</th>\n",
              "    </tr>\n",
              "    <tr>\n",
              "      <th>Survived</th>\n",
              "      <th></th>\n",
              "      <th></th>\n",
              "      <th></th>\n",
              "      <th></th>\n",
              "      <th></th>\n",
              "      <th></th>\n",
              "      <th></th>\n",
              "    </tr>\n",
              "  </thead>\n",
              "  <tbody>\n",
              "    <tr>\n",
              "      <th>0</th>\n",
              "      <td>445</td>\n",
              "      <td>53</td>\n",
              "      <td>40</td>\n",
              "      <td>2</td>\n",
              "      <td>4</td>\n",
              "      <td>4</td>\n",
              "      <td>1</td>\n",
              "    </tr>\n",
              "    <tr>\n",
              "      <th>1</th>\n",
              "      <td>233</td>\n",
              "      <td>65</td>\n",
              "      <td>40</td>\n",
              "      <td>3</td>\n",
              "      <td>0</td>\n",
              "      <td>1</td>\n",
              "      <td>0</td>\n",
              "    </tr>\n",
              "  </tbody>\n",
              "</table>\n",
              "</div>"
            ],
            "text/plain": [
              "Parch       0   1   2  3  4  5  6\n",
              "Survived                         \n",
              "0         445  53  40  2  4  4  1\n",
              "1         233  65  40  3  0  1  0"
            ]
          },
          "execution_count": 291,
          "metadata": {},
          "output_type": "execute_result"
        }
      ],
      "source": [
        "# Crosstab van aantal overlevenden & aantal ouders/kinderen\n",
        "SurvivedbyParch = pd.crosstab(index = traindf[\"Survived\"], columns = traindf[\"Parch\"])\n",
        "SurvivedbyParch\n"
      ]
    },
    {
      "cell_type": "code",
      "execution_count": 292,
      "id": "9b83df4d",
      "metadata": {},
      "outputs": [
        {
          "data": {
            "image/png": "[encoded data removed]",
            "text/plain": [
              "<Figure size 640x480 with 1 Axes>"
            ]
          },
          "metadata": {},
          "output_type": "display_data"
        }
      ],
      "source": [
        "#Bar chart van aantal overleden \n",
        "overlevenden_parch = {\n",
        "    '0 parch': (traindf[traindf['Survived'] == 1]['Parch'] == 0).sum(),\n",
        "    '1 parch': (traindf[traindf['Survived'] == 1]['Parch'] == 1).sum(),\n",
        "    '2 parch': (traindf[traindf['Survived'] == 1]['Parch'] == 2).sum(),\n",
        "    '3+ parch': (traindf[traindf['Survived'] == 1]['Parch'] >= 3).sum()\n",
        "}\n",
        "\n",
        "plt.bar(overlevenden_parch.keys(), overlevenden_parch.values())\n",
        "plt.xlabel(\"Aantal ouders en kinderen\")\n",
        "plt.ylabel(\"Aantal overlevenden passagiers\")\n",
        "plt.title(\"Aantal overlevenden icm aantal ouders en kinderen\")\n",
        "\n",
        "plt.show()\n"
      ]
    },
    {
      "cell_type": "code",
      "execution_count": 293,
      "id": "eee7bcce",
      "metadata": {},
      "outputs": [],
      "source": [
        "parch_totals = traindf['Parch'].value_counts()\n",
        "survived_parch = traindf.loc[traindf['Survived']==1]['Parch'].value_counts()"
      ]
    },
    {
      "cell_type": "code",
      "execution_count": 294,
      "id": "63c858bf",
      "metadata": {},
      "outputs": [
        {
          "data": {
            "image/png": "[encoded data removed]",
            "text/plain": [
              "<Figure size 640x480 with 1 Axes>"
            ]
          },
          "metadata": {},
          "output_type": "display_data"
        }
      ],
      "source": [
        "parch_dictionary = {}\n",
        "parch_dictionary\n",
        "\n",
        "parch_data = {\n",
        "    'parch_totals' : parch_totals,\n",
        "    'parch_survived' : survived_parch\n",
        "}\n",
        "\n",
        "df = pd.DataFrame(parch_data)\n",
        "df['parch_survival_rate'] = df['parch_survived'] / df['parch_totals']\n",
        "\n",
        "parch_dictionary['totals'] = {}\n",
        "parch_dictionary['survived'] = {}\n",
        "\n",
        "class ParchLinearRegression:\n",
        "    def __init__(self):\n",
        "        self.a = 0.75\n",
        "        self.b = 0.50\n",
        "        self.c = 0.05\n",
        "\n",
        "    def f(self,x):\n",
        "        return (self.a * (x ** 2)) + (self.b * x) + self.c\n",
        "\n",
        "parchlin = ParchLinearRegression()\n",
        "\n",
        "x = [i/10 for i in range(60)]\n",
        "y = [parchlin.f(v) for v in x]\n",
        "line = []\n",
        "for value in df.index:\n",
        "    line.append(parchlin.f(value))\n",
        "\n",
        "fig,ax = plt.subplots()\n",
        "ax.scatter(x=df.index,y=df['parch_survival_rate'])\n",
        "ax.plot(x,y,c='r')\n",
        "ax.set_title(\"Lineare regressie van parents / children\")\n",
        "ax.set_xlabel(\"Aantal ouders en kinderen\")\n",
        "ax.set_ylabel(\"Overlevingskans\")\n",
        "plt.show()"
      ]
    },
    {
      "attachments": {},
      "cell_type": "markdown",
      "id": "8024f0ac",
      "metadata": {},
      "source": [
        "Boxplot leeftijd"
      ]
    },
    {
      "cell_type": "code",
      "execution_count": 295,
      "id": "2448de85",
      "metadata": {},
      "outputs": [],
      "source": [
        "traindf2 = traindf.copy()\n",
        "\n",
        "traindf3 = traindf2.dropna()\n",
        "#Boxplot data \n",
        "overleden_age = {'Overleefd': traindf3[traindf3['Survived'] == 1]['Age'],\n",
        "                        'Overleden': traindf3[traindf3['Survived'] == 0]['Age']}\n",
        "\n"
      ]
    },
    {
      "cell_type": "code",
      "execution_count": 296,
      "id": "493ca3d9",
      "metadata": {},
      "outputs": [
        {
          "data": {
            "image/png": "[encoded data removed]",
            "text/plain": [
              "<Figure size 640x480 with 1 Axes>"
            ]
          },
          "metadata": {},
          "output_type": "display_data"
        }
      ],
      "source": [
        "#code voor boxplot\n",
        "fig, ax = plt.subplots()\n",
        "\n",
        "\n",
        "\n",
        "ax.boxplot(overleden_age.values())\n",
        "\n",
        "# ax.set_title('Title')\n",
        "ax.set_title(\"Overleefd vs Overleden\")\n",
        "# ax.set_xticklabels(['Overleefd', Overleden])\n",
        "ax.set_xticklabels(overleden_age.keys())\n",
        "# ax.set_ylabel('Y')\n",
        "ax.set_ylabel('Leeftijd')\n",
        "\n",
        "plt.show()\n"
      ]
    },
    {
      "attachments": {},
      "cell_type": "markdown",
      "id": "183642ae",
      "metadata": {},
      "source": [
        "# Prediction model"
      ]
    },
    {
      "cell_type": "code",
      "execution_count": 297,
      "id": "ff4d0230",
      "metadata": {},
      "outputs": [],
      "source": [
        "\n",
        "def predict_based_on_pclass(pclass):\n",
        "    return survival_chance_by_class[str(pclass)]\n",
        "\n",
        "def predict_based_on_sex(sex):\n",
        "    return genderdictionary[sex]\n",
        "\n",
        "def predict_based_on_siblings(siblings):\n",
        "    return sblin.f(siblings)\n",
        "\n",
        "def predict_based_on_parch(parch):\n",
        "    return parchlin.f(parch)\n",
        "\n",
        "def dataset_to_probabilities(dataset):\n",
        "    predict_funcs = {\n",
        "        \"Pclass\":predict_based_on_pclass,\n",
        "        \"Sex\":predict_based_on_sex,\n",
        "        \"SibSp\":predict_based_on_siblings,\n",
        "        \"Parch\":predict_based_on_parch,\n",
        "    }\n",
        "    probabilities = []\n",
        "    for row in dataset.iloc:\n",
        "        probability_vector = []\n",
        "        for key in row.keys():\n",
        "            if key not in predict_funcs.keys():\n",
        "                continue\n",
        "                print('Could not make prediction for: {}'.format(key))\n",
        "            else:\n",
        "                probability_vector.append(predict_funcs[key](row[key]))\n",
        "        probabilities.append(probability_vector)\n",
        "    \n",
        "    np_probabilities = np.array(probabilities)\n",
        "    return np_probabilities\n"
      ]
    },
    {
      "cell_type": "code",
      "execution_count": 321,
      "id": "61ddb46a-c436-4aa3-8ccc-cc28d4872e9b",
      "metadata": {
        "id": "61ddb46a-c436-4aa3-8ccc-cc28d4872e9b"
      },
      "outputs": [
        {
          "name": "stdout",
          "output_type": "stream",
          "text": [
            "best weights: [0.3 0.3 0.5 0. ]\n"
          ]
        }
      ],
      "source": [
        "def ascii_bar(percent):\n",
        "    return '[' + round(percent) * '=' + round(100.0 - percent) * ' ' + ']'\n",
        "\n",
        "def prediction_model(probabilities : np.array,weights):\n",
        "    predictions = probabilities.dot(weights.transpose())\n",
        "    return np.where(predictions >= 0.5,1,0).transpose()\n",
        "\n",
        "def calc_model_accuracy(weights):\n",
        "    probabilities = dataset_to_probabilities(traindf)\n",
        "    predictions = prediction_model(probabilities,weights)\n",
        "\n",
        "    correct_vector = traindf['Survived'].to_numpy()\n",
        "    total = len(correct_vector)\n",
        "    scores = []\n",
        "    for prediction in predictions:\n",
        "        result = (correct_vector == prediction).sum()\n",
        "        scores.append(result/total)\n",
        "    return scores\n",
        "\n",
        "best_weights = np.ndarray([])\n",
        "\n",
        "def optimize():\n",
        "\n",
        "    params_scores = {\n",
        "        'Pclass':[],\n",
        "        'Sex':[],\n",
        "        'SibSp':[],\n",
        "        'Parch':[],\n",
        "        'scores':[],\n",
        "    }\n",
        "    weight_types = list(params_scores.keys())\n",
        "\n",
        "    w_range = 10\n",
        "    precision = 1.0/w_range\n",
        "\n",
        "    weights = []\n",
        "\n",
        "    for i in range(w_range):\n",
        "        for j in range(w_range):\n",
        "            for k in range(w_range):\n",
        "                for l in range(w_range):\n",
        "                    weight_vector = [\n",
        "                        i * precision,\n",
        "                        j * precision, \n",
        "                        k * precision,\n",
        "                        l * precision,\n",
        "                    ]\n",
        "                    for i in range(len(weight_vector)):\n",
        "                        params_scores[weight_types[i]].append(weight_vector[i])\n",
        "                    weights.append(weight_vector)\n",
        "\n",
        "\n",
        "    weight_matrix = np.array(weights)\n",
        "    params_scores['scores'] = calc_model_accuracy(weight_matrix)\n",
        "\n",
        "    \n",
        "\n",
        "    params_scores_df = pd.DataFrame(params_scores)\n",
        "\n",
        "    params_scores_df.to_csv('param_scores.csv')\n",
        "    params_scores_df = params_scores_df.sort_values(by='scores',ascending=False)\n",
        "    # print(params_scores_df.sort_values(by='scores',ascending=False).head(10))\n",
        "    best_weights = params_scores_df.iloc[0].values[0:-1]\n",
        "    print(\"best weights:\",best_weights)\n",
        "    \n",
        "\n",
        "def gen_submission():\n",
        "    weights=best_weights\n",
        "    params = {'pclass_w': 0.5, 'gender_w': 0.3999999999999999, 'sibling_weight': 0.0, 'score': 0.8035914702581369}\n",
        "    testset = pd.read_csv('data/test.csv')\n",
        "    test_probs = dataset_to_probabilities(testset)\n",
        "    testset['Survived'] = prediction_model(test_probs,weights)\n",
        "    submission = testset[['PassengerId', 'Survived']].set_index('PassengerId')\n",
        "    submission.to_csv('submission.csv')\n",
        "\n",
        "optimize()"
      ]
    },
    {
      "cell_type": "code",
      "execution_count": 299,
      "id": "5b869136-c11e-454d-b807-5d85ff4d96df",
      "metadata": {
        "id": "5b869136-c11e-454d-b807-5d85ff4d96df"
      },
      "outputs": [],
      "source": [
        "param_history = {\n",
        "    0.7751 : {'pclass_w': 0.5, 'gender_w': 0.3999999999999999, 'sibling_weight': 0.0, 'score': 0.8035914702581369}\n",
        "}"
      ]
    },
    {
      "cell_type": "code",
      "execution_count": 325,
      "id": "20bebf49",
      "metadata": {},
      "outputs": [
        {
          "name": "stdout",
          "output_type": "stream",
          "text": [
            "   Pclass  Sex  SibSp  Parch    scores\n",
            "0     0.0  0.0    0.0    0.0  0.616162\n",
            "1     0.3  0.0    0.0    0.1  0.631874\n",
            "2     0.3  0.0    0.0    0.2  0.608305\n",
            "3     0.3  0.0    0.0    0.3  0.638608\n",
            "4     0.3  0.0    0.0    0.4  0.621773\n"
          ]
        },
        {
          "data": {
            "image/png": "[encoded data removed]",
            "text/plain": [
              "<Figure size 640x480 with 1 Axes>"
            ]
          },
          "metadata": {},
          "output_type": "display_data"
        },
        {
          "data": {
            "image/png": "[encoded data removed]",
            "text/plain": [
              "<Figure size 640x480 with 1 Axes>"
            ]
          },
          "metadata": {},
          "output_type": "display_data"
        },
        {
          "data": {
            "image/png": "[encoded data removed]",
            "text/plain": [
              "<Figure size 640x480 with 1 Axes>"
            ]
          },
          "metadata": {},
          "output_type": "display_data"
        },
        {
          "data": {
            "image/png": "[encoded data removed]",
            "text/plain": [
              "<Figure size 640x480 with 1 Axes>"
            ]
          },
          "metadata": {},
          "output_type": "display_data"
        }
      ],
      "source": [
        "param_scores = pd.read_csv('param_scores.csv',index_col=0)\n",
        "print(param_scores.head())\n",
        "\n",
        "#pclass_weight visualization\n",
        "pclass_data = param_scores.copy()\n",
        "pclass_data = pclass_data.drop_duplicates('Pclass')\n",
        "fig,ax = plt.subplots()\n",
        "ax.plot(pclass_data['Pclass'], color='green', linestyle='dashed', marker='o',\n",
        "     markerfacecolor='green', markersize=5)\n",
        "ax.plot(pclass_data['scores'], color='blue', linestyle='dashed', marker='o',\n",
        "     markerfacecolor='blue', markersize=5)\n",
        "ax.set_xlabel(\"Iteratie\")\n",
        "plt.legend([\"Pclass Weight\", \"Score\"], loc='best', title='Legende')\n",
        "plt.show()\n",
        "\n",
        "#sex_weight visualization\n",
        "sex_data = param_scores.copy()\n",
        "sex_data = sex_data.drop_duplicates('Sex')\n",
        "fig,ax = plt.subplots()\n",
        "ax.plot(sex_data['Sex'], color='orange', linestyle='dashed', marker='o',\n",
        "     markerfacecolor='orange', markersize=5)\n",
        "ax.plot(sex_data['scores'], color='brown', linestyle='dashed', marker='o',\n",
        "     markerfacecolor='brown', markersize=5)\n",
        "ax.set_xlabel(\"Iteratie\")\n",
        "plt.legend([\"Sex Weight\", \"Score\"], loc='best', title='Legende')\n",
        "plt.show()\n",
        "\n",
        "#sibling_weight visualization\n",
        "sibling_data = param_scores.copy()\n",
        "sibling_data = sibling_data.drop_duplicates('SibSp')\n",
        "fig,ax = plt.subplots()\n",
        "ax.plot(sibling_data['SibSp'], color='grey', linestyle='dashed', marker='o',\n",
        "     markerfacecolor='grey', markersize=5)\n",
        "ax.plot(sibling_data['scores'],  color='red', linestyle='dashed', marker='o',\n",
        "     markerfacecolor='red', markersize=5)\n",
        "ax.set_xlabel(\"Iteratie\")\n",
        "plt.legend([\"SibSp Weight\", \"Score\"], loc='best', title='Legende')\n",
        "plt.show()\n",
        "\n",
        "#parch_weight visualization EDIT\n",
        "sibling_data = param_scores.copy()\n",
        "sibling_data = sibling_data.drop_duplicates('Parch')\n",
        "fig,ax = plt.subplots()\n",
        "ax.plot(sibling_data['Parch'], color='grey', linestyle='dashed', marker='o',\n",
        "     markerfacecolor='grey', markersize=5)\n",
        "ax.plot(sibling_data['scores'],  color='red', linestyle='dashed', marker='o',\n",
        "     markerfacecolor='red', markersize=5)\n",
        "ax.set_xlabel(\"Iteratie\")\n",
        "plt.legend([\"Parch Weight\", \"Score\"], loc='best', title='Legende')\n",
        "plt.show()"
      ]
    },
    {
      "cell_type": "code",
      "execution_count": 301,
      "id": "kRbdv_0pebfU",
      "metadata": {
        "id": "kRbdv_0pebfU"
      },
      "outputs": [],
      "source": [
        "cabindf = pd.read_csv('data/train.csv')"
      ]
    },
    {
      "cell_type": "code",
      "execution_count": 302,
      "id": "mov0sM1kNLnK",
      "metadata": {
        "colab": {
          "base_uri": "https://localhost:8080/",
          "height": 250
        },
        "id": "mov0sM1kNLnK",
        "outputId": "f4e02d70-391a-44dc-a819-fe08a53411b4"
      },
      "outputs": [
        {
          "data": {
            "text/html": [
              "<div>\n",
              "<style scoped>\n",
              "    .dataframe tbody tr th:only-of-type {\n",
              "        vertical-align: middle;\n",
              "    }\n",
              "\n",
              "    .dataframe tbody tr th {\n",
              "        vertical-align: top;\n",
              "    }\n",
              "\n",
              "    .dataframe thead th {\n",
              "        text-align: right;\n",
              "    }\n",
              "</style>\n",
              "<table border=\"1\" class=\"dataframe\">\n",
              "  <thead>\n",
              "    <tr style=\"text-align: right;\">\n",
              "      <th></th>\n",
              "      <th>PassengerId</th>\n",
              "      <th>Survived</th>\n",
              "      <th>Pclass</th>\n",
              "      <th>Name</th>\n",
              "      <th>Sex</th>\n",
              "      <th>Age</th>\n",
              "      <th>SibSp</th>\n",
              "      <th>Parch</th>\n",
              "      <th>Ticket</th>\n",
              "      <th>Fare</th>\n",
              "      <th>Cabin</th>\n",
              "      <th>Embarked</th>\n",
              "    </tr>\n",
              "  </thead>\n",
              "  <tbody>\n",
              "    <tr>\n",
              "      <th>0</th>\n",
              "      <td>1</td>\n",
              "      <td>0</td>\n",
              "      <td>3</td>\n",
              "      <td>Braund, Mr. Owen Harris</td>\n",
              "      <td>male</td>\n",
              "      <td>22.0</td>\n",
              "      <td>1</td>\n",
              "      <td>0</td>\n",
              "      <td>A/5 21171</td>\n",
              "      <td>7.2500</td>\n",
              "      <td>NaN</td>\n",
              "      <td>S</td>\n",
              "    </tr>\n",
              "    <tr>\n",
              "      <th>1</th>\n",
              "      <td>2</td>\n",
              "      <td>1</td>\n",
              "      <td>1</td>\n",
              "      <td>Cumings, Mrs. John Bradley (Florence Briggs Th...</td>\n",
              "      <td>female</td>\n",
              "      <td>38.0</td>\n",
              "      <td>1</td>\n",
              "      <td>0</td>\n",
              "      <td>PC 17599</td>\n",
              "      <td>71.2833</td>\n",
              "      <td>C85</td>\n",
              "      <td>C</td>\n",
              "    </tr>\n",
              "    <tr>\n",
              "      <th>2</th>\n",
              "      <td>3</td>\n",
              "      <td>1</td>\n",
              "      <td>3</td>\n",
              "      <td>Heikkinen, Miss. Laina</td>\n",
              "      <td>female</td>\n",
              "      <td>26.0</td>\n",
              "      <td>0</td>\n",
              "      <td>0</td>\n",
              "      <td>STON/O2. 3101282</td>\n",
              "      <td>7.9250</td>\n",
              "      <td>NaN</td>\n",
              "      <td>S</td>\n",
              "    </tr>\n",
              "    <tr>\n",
              "      <th>3</th>\n",
              "      <td>4</td>\n",
              "      <td>1</td>\n",
              "      <td>1</td>\n",
              "      <td>Futrelle, Mrs. Jacques Heath (Lily May Peel)</td>\n",
              "      <td>female</td>\n",
              "      <td>35.0</td>\n",
              "      <td>1</td>\n",
              "      <td>0</td>\n",
              "      <td>113803</td>\n",
              "      <td>53.1000</td>\n",
              "      <td>C123</td>\n",
              "      <td>S</td>\n",
              "    </tr>\n",
              "    <tr>\n",
              "      <th>4</th>\n",
              "      <td>5</td>\n",
              "      <td>0</td>\n",
              "      <td>3</td>\n",
              "      <td>Allen, Mr. William Henry</td>\n",
              "      <td>male</td>\n",
              "      <td>35.0</td>\n",
              "      <td>0</td>\n",
              "      <td>0</td>\n",
              "      <td>373450</td>\n",
              "      <td>8.0500</td>\n",
              "      <td>NaN</td>\n",
              "      <td>S</td>\n",
              "    </tr>\n",
              "  </tbody>\n",
              "</table>\n",
              "</div>"
            ],
            "text/plain": [
              "   PassengerId  Survived  Pclass  \\\n",
              "0            1         0       3   \n",
              "1            2         1       1   \n",
              "2            3         1       3   \n",
              "3            4         1       1   \n",
              "4            5         0       3   \n",
              "\n",
              "                                                Name     Sex   Age  SibSp  \\\n",
              "0                            Braund, Mr. Owen Harris    male  22.0      1   \n",
              "1  Cumings, Mrs. John Bradley (Florence Briggs Th...  female  38.0      1   \n",
              "2                             Heikkinen, Miss. Laina  female  26.0      0   \n",
              "3       Futrelle, Mrs. Jacques Heath (Lily May Peel)  female  35.0      1   \n",
              "4                           Allen, Mr. William Henry    male  35.0      0   \n",
              "\n",
              "   Parch            Ticket     Fare Cabin Embarked  \n",
              "0      0         A/5 21171   7.2500   NaN        S  \n",
              "1      0          PC 17599  71.2833   C85        C  \n",
              "2      0  STON/O2. 3101282   7.9250   NaN        S  \n",
              "3      0            113803  53.1000  C123        S  \n",
              "4      0            373450   8.0500   NaN        S  "
            ]
          },
          "execution_count": 302,
          "metadata": {},
          "output_type": "execute_result"
        }
      ],
      "source": [
        "cabindf.head()"
      ]
    },
    {
      "cell_type": "code",
      "execution_count": 303,
      "id": "-nOHAb93ea5U",
      "metadata": {
        "colab": {
          "base_uri": "https://localhost:8080/"
        },
        "id": "-nOHAb93ea5U",
        "outputId": "62d1abe9-e197-42dc-c003-2a59cb35030a"
      },
      "outputs": [
        {
          "name": "stdout",
          "output_type": "stream",
          "text": [
            "342\n"
          ]
        }
      ],
      "source": [
        "# Double Cabin verwijderen met een nieuwe dataframe \n",
        "cabindf.Cabin.count()\n",
        "Totale_Survived = cabindf.Survived.sum()\n",
        "print(Totale_Survived)\n",
        "\n"
      ]
    },
    {
      "cell_type": "code",
      "execution_count": 304,
      "id": "E2NwxBR13UCN",
      "metadata": {
        "colab": {
          "base_uri": "https://localhost:8080/",
          "height": 455
        },
        "id": "E2NwxBR13UCN",
        "outputId": "0128b04d-2e11-4a87-ce8e-07497281dcbf"
      },
      "outputs": [
        {
          "data": {
            "text/html": [
              "<div>\n",
              "<style scoped>\n",
              "    .dataframe tbody tr th:only-of-type {\n",
              "        vertical-align: middle;\n",
              "    }\n",
              "\n",
              "    .dataframe tbody tr th {\n",
              "        vertical-align: top;\n",
              "    }\n",
              "\n",
              "    .dataframe thead th {\n",
              "        text-align: right;\n",
              "    }\n",
              "</style>\n",
              "<table border=\"1\" class=\"dataframe\">\n",
              "  <thead>\n",
              "    <tr style=\"text-align: right;\">\n",
              "      <th></th>\n",
              "      <th>PassengerId</th>\n",
              "      <th>Survived</th>\n",
              "      <th>Pclass</th>\n",
              "      <th>Name</th>\n",
              "      <th>Sex</th>\n",
              "      <th>Age</th>\n",
              "      <th>SibSp</th>\n",
              "      <th>Parch</th>\n",
              "      <th>Ticket</th>\n",
              "      <th>Fare</th>\n",
              "      <th>Embarked</th>\n",
              "    </tr>\n",
              "    <tr>\n",
              "      <th>Cabin</th>\n",
              "      <th></th>\n",
              "      <th></th>\n",
              "      <th></th>\n",
              "      <th></th>\n",
              "      <th></th>\n",
              "      <th></th>\n",
              "      <th></th>\n",
              "      <th></th>\n",
              "      <th></th>\n",
              "      <th></th>\n",
              "      <th></th>\n",
              "    </tr>\n",
              "  </thead>\n",
              "  <tbody>\n",
              "    <tr>\n",
              "      <th>A10</th>\n",
              "      <td>1</td>\n",
              "      <td>1</td>\n",
              "      <td>1</td>\n",
              "      <td>1</td>\n",
              "      <td>1</td>\n",
              "      <td>1</td>\n",
              "      <td>1</td>\n",
              "      <td>1</td>\n",
              "      <td>1</td>\n",
              "      <td>1</td>\n",
              "      <td>1</td>\n",
              "    </tr>\n",
              "    <tr>\n",
              "      <th>A14</th>\n",
              "      <td>1</td>\n",
              "      <td>1</td>\n",
              "      <td>1</td>\n",
              "      <td>1</td>\n",
              "      <td>1</td>\n",
              "      <td>0</td>\n",
              "      <td>1</td>\n",
              "      <td>1</td>\n",
              "      <td>1</td>\n",
              "      <td>1</td>\n",
              "      <td>1</td>\n",
              "    </tr>\n",
              "    <tr>\n",
              "      <th>A16</th>\n",
              "      <td>1</td>\n",
              "      <td>1</td>\n",
              "      <td>1</td>\n",
              "      <td>1</td>\n",
              "      <td>1</td>\n",
              "      <td>1</td>\n",
              "      <td>1</td>\n",
              "      <td>1</td>\n",
              "      <td>1</td>\n",
              "      <td>1</td>\n",
              "      <td>1</td>\n",
              "    </tr>\n",
              "    <tr>\n",
              "      <th>A19</th>\n",
              "      <td>1</td>\n",
              "      <td>1</td>\n",
              "      <td>1</td>\n",
              "      <td>1</td>\n",
              "      <td>1</td>\n",
              "      <td>0</td>\n",
              "      <td>1</td>\n",
              "      <td>1</td>\n",
              "      <td>1</td>\n",
              "      <td>1</td>\n",
              "      <td>1</td>\n",
              "    </tr>\n",
              "    <tr>\n",
              "      <th>A20</th>\n",
              "      <td>1</td>\n",
              "      <td>1</td>\n",
              "      <td>1</td>\n",
              "      <td>1</td>\n",
              "      <td>1</td>\n",
              "      <td>1</td>\n",
              "      <td>1</td>\n",
              "      <td>1</td>\n",
              "      <td>1</td>\n",
              "      <td>1</td>\n",
              "      <td>1</td>\n",
              "    </tr>\n",
              "    <tr>\n",
              "      <th>...</th>\n",
              "      <td>...</td>\n",
              "      <td>...</td>\n",
              "      <td>...</td>\n",
              "      <td>...</td>\n",
              "      <td>...</td>\n",
              "      <td>...</td>\n",
              "      <td>...</td>\n",
              "      <td>...</td>\n",
              "      <td>...</td>\n",
              "      <td>...</td>\n",
              "      <td>...</td>\n",
              "    </tr>\n",
              "    <tr>\n",
              "      <th>F33</th>\n",
              "      <td>3</td>\n",
              "      <td>3</td>\n",
              "      <td>3</td>\n",
              "      <td>3</td>\n",
              "      <td>3</td>\n",
              "      <td>3</td>\n",
              "      <td>3</td>\n",
              "      <td>3</td>\n",
              "      <td>3</td>\n",
              "      <td>3</td>\n",
              "      <td>3</td>\n",
              "    </tr>\n",
              "    <tr>\n",
              "      <th>F38</th>\n",
              "      <td>1</td>\n",
              "      <td>1</td>\n",
              "      <td>1</td>\n",
              "      <td>1</td>\n",
              "      <td>1</td>\n",
              "      <td>0</td>\n",
              "      <td>1</td>\n",
              "      <td>1</td>\n",
              "      <td>1</td>\n",
              "      <td>1</td>\n",
              "      <td>1</td>\n",
              "    </tr>\n",
              "    <tr>\n",
              "      <th>F4</th>\n",
              "      <td>2</td>\n",
              "      <td>2</td>\n",
              "      <td>2</td>\n",
              "      <td>2</td>\n",
              "      <td>2</td>\n",
              "      <td>2</td>\n",
              "      <td>2</td>\n",
              "      <td>2</td>\n",
              "      <td>2</td>\n",
              "      <td>2</td>\n",
              "      <td>2</td>\n",
              "    </tr>\n",
              "    <tr>\n",
              "      <th>G6</th>\n",
              "      <td>4</td>\n",
              "      <td>4</td>\n",
              "      <td>4</td>\n",
              "      <td>4</td>\n",
              "      <td>4</td>\n",
              "      <td>4</td>\n",
              "      <td>4</td>\n",
              "      <td>4</td>\n",
              "      <td>4</td>\n",
              "      <td>4</td>\n",
              "      <td>4</td>\n",
              "    </tr>\n",
              "    <tr>\n",
              "      <th>T</th>\n",
              "      <td>1</td>\n",
              "      <td>1</td>\n",
              "      <td>1</td>\n",
              "      <td>1</td>\n",
              "      <td>1</td>\n",
              "      <td>1</td>\n",
              "      <td>1</td>\n",
              "      <td>1</td>\n",
              "      <td>1</td>\n",
              "      <td>1</td>\n",
              "      <td>1</td>\n",
              "    </tr>\n",
              "  </tbody>\n",
              "</table>\n",
              "<p>147 rows × 11 columns</p>\n",
              "</div>"
            ],
            "text/plain": [
              "       PassengerId  Survived  Pclass  Name  Sex  Age  SibSp  Parch  Ticket  \\\n",
              "Cabin                                                                        \n",
              "A10              1         1       1     1    1    1      1      1       1   \n",
              "A14              1         1       1     1    1    0      1      1       1   \n",
              "A16              1         1       1     1    1    1      1      1       1   \n",
              "A19              1         1       1     1    1    0      1      1       1   \n",
              "A20              1         1       1     1    1    1      1      1       1   \n",
              "...            ...       ...     ...   ...  ...  ...    ...    ...     ...   \n",
              "F33              3         3       3     3    3    3      3      3       3   \n",
              "F38              1         1       1     1    1    0      1      1       1   \n",
              "F4               2         2       2     2    2    2      2      2       2   \n",
              "G6               4         4       4     4    4    4      4      4       4   \n",
              "T                1         1       1     1    1    1      1      1       1   \n",
              "\n",
              "       Fare  Embarked  \n",
              "Cabin                  \n",
              "A10       1         1  \n",
              "A14       1         1  \n",
              "A16       1         1  \n",
              "A19       1         1  \n",
              "A20       1         1  \n",
              "...     ...       ...  \n",
              "F33       3         3  \n",
              "F38       1         1  \n",
              "F4        2         2  \n",
              "G6        4         4  \n",
              "T         1         1  \n",
              "\n",
              "[147 rows x 11 columns]"
            ]
          },
          "execution_count": 304,
          "metadata": {},
          "output_type": "execute_result"
        }
      ],
      "source": [
        "cabindf.groupby(['Cabin']).count()"
      ]
    },
    {
      "cell_type": "code",
      "execution_count": 305,
      "id": "nfOiQIQ2Mebl",
      "metadata": {
        "colab": {
          "base_uri": "https://localhost:8080/",
          "height": 250
        },
        "id": "nfOiQIQ2Mebl",
        "outputId": "fd295d57-d059-4044-f9e1-3ba22a6602fd"
      },
      "outputs": [
        {
          "data": {
            "text/html": [
              "<div>\n",
              "<style scoped>\n",
              "    .dataframe tbody tr th:only-of-type {\n",
              "        vertical-align: middle;\n",
              "    }\n",
              "\n",
              "    .dataframe tbody tr th {\n",
              "        vertical-align: top;\n",
              "    }\n",
              "\n",
              "    .dataframe thead th {\n",
              "        text-align: right;\n",
              "    }\n",
              "</style>\n",
              "<table border=\"1\" class=\"dataframe\">\n",
              "  <thead>\n",
              "    <tr style=\"text-align: right;\">\n",
              "      <th></th>\n",
              "      <th>PassengerId</th>\n",
              "      <th>Survived</th>\n",
              "      <th>Pclass</th>\n",
              "      <th>Name</th>\n",
              "      <th>Sex</th>\n",
              "      <th>Age</th>\n",
              "      <th>SibSp</th>\n",
              "      <th>Parch</th>\n",
              "      <th>Ticket</th>\n",
              "      <th>Fare</th>\n",
              "      <th>Cabin</th>\n",
              "      <th>Embarked</th>\n",
              "    </tr>\n",
              "  </thead>\n",
              "  <tbody>\n",
              "    <tr>\n",
              "      <th>0</th>\n",
              "      <td>1</td>\n",
              "      <td>0</td>\n",
              "      <td>3</td>\n",
              "      <td>Braund, Mr. Owen Harris</td>\n",
              "      <td>male</td>\n",
              "      <td>22.0</td>\n",
              "      <td>1</td>\n",
              "      <td>0</td>\n",
              "      <td>A/5 21171</td>\n",
              "      <td>7.2500</td>\n",
              "      <td>NaN</td>\n",
              "      <td>S</td>\n",
              "    </tr>\n",
              "    <tr>\n",
              "      <th>1</th>\n",
              "      <td>2</td>\n",
              "      <td>1</td>\n",
              "      <td>1</td>\n",
              "      <td>Cumings, Mrs. John Bradley (Florence Briggs Th...</td>\n",
              "      <td>female</td>\n",
              "      <td>38.0</td>\n",
              "      <td>1</td>\n",
              "      <td>0</td>\n",
              "      <td>PC 17599</td>\n",
              "      <td>71.2833</td>\n",
              "      <td>C85</td>\n",
              "      <td>C</td>\n",
              "    </tr>\n",
              "    <tr>\n",
              "      <th>2</th>\n",
              "      <td>3</td>\n",
              "      <td>1</td>\n",
              "      <td>3</td>\n",
              "      <td>Heikkinen, Miss. Laina</td>\n",
              "      <td>female</td>\n",
              "      <td>26.0</td>\n",
              "      <td>0</td>\n",
              "      <td>0</td>\n",
              "      <td>STON/O2. 3101282</td>\n",
              "      <td>7.9250</td>\n",
              "      <td>NaN</td>\n",
              "      <td>S</td>\n",
              "    </tr>\n",
              "    <tr>\n",
              "      <th>3</th>\n",
              "      <td>4</td>\n",
              "      <td>1</td>\n",
              "      <td>1</td>\n",
              "      <td>Futrelle, Mrs. Jacques Heath (Lily May Peel)</td>\n",
              "      <td>female</td>\n",
              "      <td>35.0</td>\n",
              "      <td>1</td>\n",
              "      <td>0</td>\n",
              "      <td>113803</td>\n",
              "      <td>53.1000</td>\n",
              "      <td>C123</td>\n",
              "      <td>S</td>\n",
              "    </tr>\n",
              "    <tr>\n",
              "      <th>4</th>\n",
              "      <td>5</td>\n",
              "      <td>0</td>\n",
              "      <td>3</td>\n",
              "      <td>Allen, Mr. William Henry</td>\n",
              "      <td>male</td>\n",
              "      <td>35.0</td>\n",
              "      <td>0</td>\n",
              "      <td>0</td>\n",
              "      <td>373450</td>\n",
              "      <td>8.0500</td>\n",
              "      <td>NaN</td>\n",
              "      <td>S</td>\n",
              "    </tr>\n",
              "  </tbody>\n",
              "</table>\n",
              "</div>"
            ],
            "text/plain": [
              "   PassengerId  Survived  Pclass  \\\n",
              "0            1         0       3   \n",
              "1            2         1       1   \n",
              "2            3         1       3   \n",
              "3            4         1       1   \n",
              "4            5         0       3   \n",
              "\n",
              "                                                Name     Sex   Age  SibSp  \\\n",
              "0                            Braund, Mr. Owen Harris    male  22.0      1   \n",
              "1  Cumings, Mrs. John Bradley (Florence Briggs Th...  female  38.0      1   \n",
              "2                             Heikkinen, Miss. Laina  female  26.0      0   \n",
              "3       Futrelle, Mrs. Jacques Heath (Lily May Peel)  female  35.0      1   \n",
              "4                           Allen, Mr. William Henry    male  35.0      0   \n",
              "\n",
              "   Parch            Ticket     Fare Cabin Embarked  \n",
              "0      0         A/5 21171   7.2500   NaN        S  \n",
              "1      0          PC 17599  71.2833   C85        C  \n",
              "2      0  STON/O2. 3101282   7.9250   NaN        S  \n",
              "3      0            113803  53.1000  C123        S  \n",
              "4      0            373450   8.0500   NaN        S  "
            ]
          },
          "execution_count": 305,
          "metadata": {},
          "output_type": "execute_result"
        }
      ],
      "source": [
        "cabindf.head()"
      ]
    },
    {
      "cell_type": "code",
      "execution_count": 306,
      "id": "bv7rJmwMMDQV",
      "metadata": {
        "id": "bv7rJmwMMDQV"
      },
      "outputs": [],
      "source": [
        "cabindf['Cabin'] = cabindf['Cabin'].fillna('na')"
      ]
    },
    {
      "cell_type": "code",
      "execution_count": 307,
      "id": "_7ZAnDbUjx_z",
      "metadata": {
        "colab": {
          "base_uri": "https://localhost:8080/"
        },
        "id": "_7ZAnDbUjx_z",
        "outputId": "edc56e00-f264-4ae4-e109-62aa497eb95e"
      },
      "outputs": [
        {
          "name": "stderr",
          "output_type": "stream",
          "text": [
            "/tmp/ipykernel_14425/7347007.py:1: FutureWarning: The default value of regex will change from True to False in a future version.\n",
            "  cabindf['Cabin'] = cabindf['Cabin'].str.replace('\\d+', '')\n"
          ]
        }
      ],
      "source": [
        "cabindf['Cabin'] = cabindf['Cabin'].str.replace('\\d+', '')\n",
        "\n"
      ]
    },
    {
      "cell_type": "code",
      "execution_count": 308,
      "id": "MJpm2DCzCFxV",
      "metadata": {
        "id": "MJpm2DCzCFxV"
      },
      "outputs": [],
      "source": [
        "def remove_duplicate_chars(string):\n",
        "    if type(string) != str:\n",
        "        return ''    \n",
        "    return ''.join(set(string.replace(' ','')))\n",
        "\n",
        "\n"
      ]
    },
    {
      "cell_type": "code",
      "execution_count": null,
      "id": "TUG0pl4RKISY",
      "metadata": {
        "id": "TUG0pl4RKISY"
      },
      "outputs": [],
      "source": []
    },
    {
      "cell_type": "code",
      "execution_count": 309,
      "id": "FddpoBatFHSM",
      "metadata": {
        "id": "FddpoBatFHSM"
      },
      "outputs": [],
      "source": [
        "\n",
        "cabindf['Cabin'] = cabindf['Cabin'].apply(remove_duplicate_chars)"
      ]
    },
    {
      "cell_type": "code",
      "execution_count": 310,
      "id": "lxPf7ZMGD13_",
      "metadata": {
        "colab": {
          "base_uri": "https://localhost:8080/",
          "height": 1000
        },
        "id": "lxPf7ZMGD13_",
        "outputId": "279e2371-302c-4ff2-b014-e7e8e1e58f03"
      },
      "outputs": [
        {
          "data": {
            "text/html": [
              "<div>\n",
              "<style scoped>\n",
              "    .dataframe tbody tr th:only-of-type {\n",
              "        vertical-align: middle;\n",
              "    }\n",
              "\n",
              "    .dataframe tbody tr th {\n",
              "        vertical-align: top;\n",
              "    }\n",
              "\n",
              "    .dataframe thead th {\n",
              "        text-align: right;\n",
              "    }\n",
              "</style>\n",
              "<table border=\"1\" class=\"dataframe\">\n",
              "  <thead>\n",
              "    <tr style=\"text-align: right;\">\n",
              "      <th></th>\n",
              "      <th>PassengerId</th>\n",
              "      <th>Survived</th>\n",
              "      <th>Pclass</th>\n",
              "      <th>Name</th>\n",
              "      <th>Sex</th>\n",
              "      <th>Age</th>\n",
              "      <th>SibSp</th>\n",
              "      <th>Parch</th>\n",
              "      <th>Ticket</th>\n",
              "      <th>Fare</th>\n",
              "      <th>Cabin</th>\n",
              "      <th>Embarked</th>\n",
              "    </tr>\n",
              "  </thead>\n",
              "  <tbody>\n",
              "    <tr>\n",
              "      <th>0</th>\n",
              "      <td>1</td>\n",
              "      <td>0</td>\n",
              "      <td>3</td>\n",
              "      <td>Braund, Mr. Owen Harris</td>\n",
              "      <td>male</td>\n",
              "      <td>22.0</td>\n",
              "      <td>1</td>\n",
              "      <td>0</td>\n",
              "      <td>A/5 21171</td>\n",
              "      <td>7.2500</td>\n",
              "      <td>an</td>\n",
              "      <td>S</td>\n",
              "    </tr>\n",
              "    <tr>\n",
              "      <th>1</th>\n",
              "      <td>2</td>\n",
              "      <td>1</td>\n",
              "      <td>1</td>\n",
              "      <td>Cumings, Mrs. John Bradley (Florence Briggs Th...</td>\n",
              "      <td>female</td>\n",
              "      <td>38.0</td>\n",
              "      <td>1</td>\n",
              "      <td>0</td>\n",
              "      <td>PC 17599</td>\n",
              "      <td>71.2833</td>\n",
              "      <td>C</td>\n",
              "      <td>C</td>\n",
              "    </tr>\n",
              "    <tr>\n",
              "      <th>2</th>\n",
              "      <td>3</td>\n",
              "      <td>1</td>\n",
              "      <td>3</td>\n",
              "      <td>Heikkinen, Miss. Laina</td>\n",
              "      <td>female</td>\n",
              "      <td>26.0</td>\n",
              "      <td>0</td>\n",
              "      <td>0</td>\n",
              "      <td>STON/O2. 3101282</td>\n",
              "      <td>7.9250</td>\n",
              "      <td>an</td>\n",
              "      <td>S</td>\n",
              "    </tr>\n",
              "    <tr>\n",
              "      <th>3</th>\n",
              "      <td>4</td>\n",
              "      <td>1</td>\n",
              "      <td>1</td>\n",
              "      <td>Futrelle, Mrs. Jacques Heath (Lily May Peel)</td>\n",
              "      <td>female</td>\n",
              "      <td>35.0</td>\n",
              "      <td>1</td>\n",
              "      <td>0</td>\n",
              "      <td>113803</td>\n",
              "      <td>53.1000</td>\n",
              "      <td>C</td>\n",
              "      <td>S</td>\n",
              "    </tr>\n",
              "    <tr>\n",
              "      <th>4</th>\n",
              "      <td>5</td>\n",
              "      <td>0</td>\n",
              "      <td>3</td>\n",
              "      <td>Allen, Mr. William Henry</td>\n",
              "      <td>male</td>\n",
              "      <td>35.0</td>\n",
              "      <td>0</td>\n",
              "      <td>0</td>\n",
              "      <td>373450</td>\n",
              "      <td>8.0500</td>\n",
              "      <td>an</td>\n",
              "      <td>S</td>\n",
              "    </tr>\n",
              "    <tr>\n",
              "      <th>5</th>\n",
              "      <td>6</td>\n",
              "      <td>0</td>\n",
              "      <td>3</td>\n",
              "      <td>Moran, Mr. James</td>\n",
              "      <td>male</td>\n",
              "      <td>NaN</td>\n",
              "      <td>0</td>\n",
              "      <td>0</td>\n",
              "      <td>330877</td>\n",
              "      <td>8.4583</td>\n",
              "      <td>an</td>\n",
              "      <td>Q</td>\n",
              "    </tr>\n",
              "    <tr>\n",
              "      <th>6</th>\n",
              "      <td>7</td>\n",
              "      <td>0</td>\n",
              "      <td>1</td>\n",
              "      <td>McCarthy, Mr. Timothy J</td>\n",
              "      <td>male</td>\n",
              "      <td>54.0</td>\n",
              "      <td>0</td>\n",
              "      <td>0</td>\n",
              "      <td>17463</td>\n",
              "      <td>51.8625</td>\n",
              "      <td>E</td>\n",
              "      <td>S</td>\n",
              "    </tr>\n",
              "    <tr>\n",
              "      <th>7</th>\n",
              "      <td>8</td>\n",
              "      <td>0</td>\n",
              "      <td>3</td>\n",
              "      <td>Palsson, Master. Gosta Leonard</td>\n",
              "      <td>male</td>\n",
              "      <td>2.0</td>\n",
              "      <td>3</td>\n",
              "      <td>1</td>\n",
              "      <td>349909</td>\n",
              "      <td>21.0750</td>\n",
              "      <td>an</td>\n",
              "      <td>S</td>\n",
              "    </tr>\n",
              "    <tr>\n",
              "      <th>8</th>\n",
              "      <td>9</td>\n",
              "      <td>1</td>\n",
              "      <td>3</td>\n",
              "      <td>Johnson, Mrs. Oscar W (Elisabeth Vilhelmina Berg)</td>\n",
              "      <td>female</td>\n",
              "      <td>27.0</td>\n",
              "      <td>0</td>\n",
              "      <td>2</td>\n",
              "      <td>347742</td>\n",
              "      <td>11.1333</td>\n",
              "      <td>an</td>\n",
              "      <td>S</td>\n",
              "    </tr>\n",
              "    <tr>\n",
              "      <th>9</th>\n",
              "      <td>10</td>\n",
              "      <td>1</td>\n",
              "      <td>2</td>\n",
              "      <td>Nasser, Mrs. Nicholas (Adele Achem)</td>\n",
              "      <td>female</td>\n",
              "      <td>14.0</td>\n",
              "      <td>1</td>\n",
              "      <td>0</td>\n",
              "      <td>237736</td>\n",
              "      <td>30.0708</td>\n",
              "      <td>an</td>\n",
              "      <td>C</td>\n",
              "    </tr>\n",
              "    <tr>\n",
              "      <th>10</th>\n",
              "      <td>11</td>\n",
              "      <td>1</td>\n",
              "      <td>3</td>\n",
              "      <td>Sandstrom, Miss. Marguerite Rut</td>\n",
              "      <td>female</td>\n",
              "      <td>4.0</td>\n",
              "      <td>1</td>\n",
              "      <td>1</td>\n",
              "      <td>PP 9549</td>\n",
              "      <td>16.7000</td>\n",
              "      <td>G</td>\n",
              "      <td>S</td>\n",
              "    </tr>\n",
              "    <tr>\n",
              "      <th>11</th>\n",
              "      <td>12</td>\n",
              "      <td>1</td>\n",
              "      <td>1</td>\n",
              "      <td>Bonnell, Miss. Elizabeth</td>\n",
              "      <td>female</td>\n",
              "      <td>58.0</td>\n",
              "      <td>0</td>\n",
              "      <td>0</td>\n",
              "      <td>113783</td>\n",
              "      <td>26.5500</td>\n",
              "      <td>C</td>\n",
              "      <td>S</td>\n",
              "    </tr>\n",
              "    <tr>\n",
              "      <th>12</th>\n",
              "      <td>13</td>\n",
              "      <td>0</td>\n",
              "      <td>3</td>\n",
              "      <td>Saundercock, Mr. William Henry</td>\n",
              "      <td>male</td>\n",
              "      <td>20.0</td>\n",
              "      <td>0</td>\n",
              "      <td>0</td>\n",
              "      <td>A/5. 2151</td>\n",
              "      <td>8.0500</td>\n",
              "      <td>an</td>\n",
              "      <td>S</td>\n",
              "    </tr>\n",
              "    <tr>\n",
              "      <th>13</th>\n",
              "      <td>14</td>\n",
              "      <td>0</td>\n",
              "      <td>3</td>\n",
              "      <td>Andersson, Mr. Anders Johan</td>\n",
              "      <td>male</td>\n",
              "      <td>39.0</td>\n",
              "      <td>1</td>\n",
              "      <td>5</td>\n",
              "      <td>347082</td>\n",
              "      <td>31.2750</td>\n",
              "      <td>an</td>\n",
              "      <td>S</td>\n",
              "    </tr>\n",
              "    <tr>\n",
              "      <th>14</th>\n",
              "      <td>15</td>\n",
              "      <td>0</td>\n",
              "      <td>3</td>\n",
              "      <td>Vestrom, Miss. Hulda Amanda Adolfina</td>\n",
              "      <td>female</td>\n",
              "      <td>14.0</td>\n",
              "      <td>0</td>\n",
              "      <td>0</td>\n",
              "      <td>350406</td>\n",
              "      <td>7.8542</td>\n",
              "      <td>an</td>\n",
              "      <td>S</td>\n",
              "    </tr>\n",
              "    <tr>\n",
              "      <th>15</th>\n",
              "      <td>16</td>\n",
              "      <td>1</td>\n",
              "      <td>2</td>\n",
              "      <td>Hewlett, Mrs. (Mary D Kingcome)</td>\n",
              "      <td>female</td>\n",
              "      <td>55.0</td>\n",
              "      <td>0</td>\n",
              "      <td>0</td>\n",
              "      <td>248706</td>\n",
              "      <td>16.0000</td>\n",
              "      <td>an</td>\n",
              "      <td>S</td>\n",
              "    </tr>\n",
              "    <tr>\n",
              "      <th>16</th>\n",
              "      <td>17</td>\n",
              "      <td>0</td>\n",
              "      <td>3</td>\n",
              "      <td>Rice, Master. Eugene</td>\n",
              "      <td>male</td>\n",
              "      <td>2.0</td>\n",
              "      <td>4</td>\n",
              "      <td>1</td>\n",
              "      <td>382652</td>\n",
              "      <td>29.1250</td>\n",
              "      <td>an</td>\n",
              "      <td>Q</td>\n",
              "    </tr>\n",
              "    <tr>\n",
              "      <th>17</th>\n",
              "      <td>18</td>\n",
              "      <td>1</td>\n",
              "      <td>2</td>\n",
              "      <td>Williams, Mr. Charles Eugene</td>\n",
              "      <td>male</td>\n",
              "      <td>NaN</td>\n",
              "      <td>0</td>\n",
              "      <td>0</td>\n",
              "      <td>244373</td>\n",
              "      <td>13.0000</td>\n",
              "      <td>an</td>\n",
              "      <td>S</td>\n",
              "    </tr>\n",
              "    <tr>\n",
              "      <th>18</th>\n",
              "      <td>19</td>\n",
              "      <td>0</td>\n",
              "      <td>3</td>\n",
              "      <td>Vander Planke, Mrs. Julius (Emelia Maria Vande...</td>\n",
              "      <td>female</td>\n",
              "      <td>31.0</td>\n",
              "      <td>1</td>\n",
              "      <td>0</td>\n",
              "      <td>345763</td>\n",
              "      <td>18.0000</td>\n",
              "      <td>an</td>\n",
              "      <td>S</td>\n",
              "    </tr>\n",
              "    <tr>\n",
              "      <th>19</th>\n",
              "      <td>20</td>\n",
              "      <td>1</td>\n",
              "      <td>3</td>\n",
              "      <td>Masselmani, Mrs. Fatima</td>\n",
              "      <td>female</td>\n",
              "      <td>NaN</td>\n",
              "      <td>0</td>\n",
              "      <td>0</td>\n",
              "      <td>2649</td>\n",
              "      <td>7.2250</td>\n",
              "      <td>an</td>\n",
              "      <td>C</td>\n",
              "    </tr>\n",
              "    <tr>\n",
              "      <th>20</th>\n",
              "      <td>21</td>\n",
              "      <td>0</td>\n",
              "      <td>2</td>\n",
              "      <td>Fynney, Mr. Joseph J</td>\n",
              "      <td>male</td>\n",
              "      <td>35.0</td>\n",
              "      <td>0</td>\n",
              "      <td>0</td>\n",
              "      <td>239865</td>\n",
              "      <td>26.0000</td>\n",
              "      <td>an</td>\n",
              "      <td>S</td>\n",
              "    </tr>\n",
              "    <tr>\n",
              "      <th>21</th>\n",
              "      <td>22</td>\n",
              "      <td>1</td>\n",
              "      <td>2</td>\n",
              "      <td>Beesley, Mr. Lawrence</td>\n",
              "      <td>male</td>\n",
              "      <td>34.0</td>\n",
              "      <td>0</td>\n",
              "      <td>0</td>\n",
              "      <td>248698</td>\n",
              "      <td>13.0000</td>\n",
              "      <td>D</td>\n",
              "      <td>S</td>\n",
              "    </tr>\n",
              "    <tr>\n",
              "      <th>22</th>\n",
              "      <td>23</td>\n",
              "      <td>1</td>\n",
              "      <td>3</td>\n",
              "      <td>McGowan, Miss. Anna \"Annie\"</td>\n",
              "      <td>female</td>\n",
              "      <td>15.0</td>\n",
              "      <td>0</td>\n",
              "      <td>0</td>\n",
              "      <td>330923</td>\n",
              "      <td>8.0292</td>\n",
              "      <td>an</td>\n",
              "      <td>Q</td>\n",
              "    </tr>\n",
              "    <tr>\n",
              "      <th>23</th>\n",
              "      <td>24</td>\n",
              "      <td>1</td>\n",
              "      <td>1</td>\n",
              "      <td>Sloper, Mr. William Thompson</td>\n",
              "      <td>male</td>\n",
              "      <td>28.0</td>\n",
              "      <td>0</td>\n",
              "      <td>0</td>\n",
              "      <td>113788</td>\n",
              "      <td>35.5000</td>\n",
              "      <td>A</td>\n",
              "      <td>S</td>\n",
              "    </tr>\n",
              "    <tr>\n",
              "      <th>24</th>\n",
              "      <td>25</td>\n",
              "      <td>0</td>\n",
              "      <td>3</td>\n",
              "      <td>Palsson, Miss. Torborg Danira</td>\n",
              "      <td>female</td>\n",
              "      <td>8.0</td>\n",
              "      <td>3</td>\n",
              "      <td>1</td>\n",
              "      <td>349909</td>\n",
              "      <td>21.0750</td>\n",
              "      <td>an</td>\n",
              "      <td>S</td>\n",
              "    </tr>\n",
              "    <tr>\n",
              "      <th>25</th>\n",
              "      <td>26</td>\n",
              "      <td>1</td>\n",
              "      <td>3</td>\n",
              "      <td>Asplund, Mrs. Carl Oscar (Selma Augusta Emilia...</td>\n",
              "      <td>female</td>\n",
              "      <td>38.0</td>\n",
              "      <td>1</td>\n",
              "      <td>5</td>\n",
              "      <td>347077</td>\n",
              "      <td>31.3875</td>\n",
              "      <td>an</td>\n",
              "      <td>S</td>\n",
              "    </tr>\n",
              "    <tr>\n",
              "      <th>26</th>\n",
              "      <td>27</td>\n",
              "      <td>0</td>\n",
              "      <td>3</td>\n",
              "      <td>Emir, Mr. Farred Chehab</td>\n",
              "      <td>male</td>\n",
              "      <td>NaN</td>\n",
              "      <td>0</td>\n",
              "      <td>0</td>\n",
              "      <td>2631</td>\n",
              "      <td>7.2250</td>\n",
              "      <td>an</td>\n",
              "      <td>C</td>\n",
              "    </tr>\n",
              "    <tr>\n",
              "      <th>27</th>\n",
              "      <td>28</td>\n",
              "      <td>0</td>\n",
              "      <td>1</td>\n",
              "      <td>Fortune, Mr. Charles Alexander</td>\n",
              "      <td>male</td>\n",
              "      <td>19.0</td>\n",
              "      <td>3</td>\n",
              "      <td>2</td>\n",
              "      <td>19950</td>\n",
              "      <td>263.0000</td>\n",
              "      <td>C</td>\n",
              "      <td>S</td>\n",
              "    </tr>\n",
              "    <tr>\n",
              "      <th>28</th>\n",
              "      <td>29</td>\n",
              "      <td>1</td>\n",
              "      <td>3</td>\n",
              "      <td>O'Dwyer, Miss. Ellen \"Nellie\"</td>\n",
              "      <td>female</td>\n",
              "      <td>NaN</td>\n",
              "      <td>0</td>\n",
              "      <td>0</td>\n",
              "      <td>330959</td>\n",
              "      <td>7.8792</td>\n",
              "      <td>an</td>\n",
              "      <td>Q</td>\n",
              "    </tr>\n",
              "    <tr>\n",
              "      <th>29</th>\n",
              "      <td>30</td>\n",
              "      <td>0</td>\n",
              "      <td>3</td>\n",
              "      <td>Todoroff, Mr. Lalio</td>\n",
              "      <td>male</td>\n",
              "      <td>NaN</td>\n",
              "      <td>0</td>\n",
              "      <td>0</td>\n",
              "      <td>349216</td>\n",
              "      <td>7.8958</td>\n",
              "      <td>an</td>\n",
              "      <td>S</td>\n",
              "    </tr>\n",
              "  </tbody>\n",
              "</table>\n",
              "</div>"
            ],
            "text/plain": [
              "    PassengerId  Survived  Pclass  \\\n",
              "0             1         0       3   \n",
              "1             2         1       1   \n",
              "2             3         1       3   \n",
              "3             4         1       1   \n",
              "4             5         0       3   \n",
              "5             6         0       3   \n",
              "6             7         0       1   \n",
              "7             8         0       3   \n",
              "8             9         1       3   \n",
              "9            10         1       2   \n",
              "10           11         1       3   \n",
              "11           12         1       1   \n",
              "12           13         0       3   \n",
              "13           14         0       3   \n",
              "14           15         0       3   \n",
              "15           16         1       2   \n",
              "16           17         0       3   \n",
              "17           18         1       2   \n",
              "18           19         0       3   \n",
              "19           20         1       3   \n",
              "20           21         0       2   \n",
              "21           22         1       2   \n",
              "22           23         1       3   \n",
              "23           24         1       1   \n",
              "24           25         0       3   \n",
              "25           26         1       3   \n",
              "26           27         0       3   \n",
              "27           28         0       1   \n",
              "28           29         1       3   \n",
              "29           30         0       3   \n",
              "\n",
              "                                                 Name     Sex   Age  SibSp  \\\n",
              "0                             Braund, Mr. Owen Harris    male  22.0      1   \n",
              "1   Cumings, Mrs. John Bradley (Florence Briggs Th...  female  38.0      1   \n",
              "2                              Heikkinen, Miss. Laina  female  26.0      0   \n",
              "3        Futrelle, Mrs. Jacques Heath (Lily May Peel)  female  35.0      1   \n",
              "4                            Allen, Mr. William Henry    male  35.0      0   \n",
              "5                                    Moran, Mr. James    male   NaN      0   \n",
              "6                             McCarthy, Mr. Timothy J    male  54.0      0   \n",
              "7                      Palsson, Master. Gosta Leonard    male   2.0      3   \n",
              "8   Johnson, Mrs. Oscar W (Elisabeth Vilhelmina Berg)  female  27.0      0   \n",
              "9                 Nasser, Mrs. Nicholas (Adele Achem)  female  14.0      1   \n",
              "10                    Sandstrom, Miss. Marguerite Rut  female   4.0      1   \n",
              "11                           Bonnell, Miss. Elizabeth  female  58.0      0   \n",
              "12                     Saundercock, Mr. William Henry    male  20.0      0   \n",
              "13                        Andersson, Mr. Anders Johan    male  39.0      1   \n",
              "14               Vestrom, Miss. Hulda Amanda Adolfina  female  14.0      0   \n",
              "15                   Hewlett, Mrs. (Mary D Kingcome)   female  55.0      0   \n",
              "16                               Rice, Master. Eugene    male   2.0      4   \n",
              "17                       Williams, Mr. Charles Eugene    male   NaN      0   \n",
              "18  Vander Planke, Mrs. Julius (Emelia Maria Vande...  female  31.0      1   \n",
              "19                            Masselmani, Mrs. Fatima  female   NaN      0   \n",
              "20                               Fynney, Mr. Joseph J    male  35.0      0   \n",
              "21                              Beesley, Mr. Lawrence    male  34.0      0   \n",
              "22                        McGowan, Miss. Anna \"Annie\"  female  15.0      0   \n",
              "23                       Sloper, Mr. William Thompson    male  28.0      0   \n",
              "24                      Palsson, Miss. Torborg Danira  female   8.0      3   \n",
              "25  Asplund, Mrs. Carl Oscar (Selma Augusta Emilia...  female  38.0      1   \n",
              "26                            Emir, Mr. Farred Chehab    male   NaN      0   \n",
              "27                     Fortune, Mr. Charles Alexander    male  19.0      3   \n",
              "28                      O'Dwyer, Miss. Ellen \"Nellie\"  female   NaN      0   \n",
              "29                                Todoroff, Mr. Lalio    male   NaN      0   \n",
              "\n",
              "    Parch            Ticket      Fare Cabin Embarked  \n",
              "0       0         A/5 21171    7.2500    an        S  \n",
              "1       0          PC 17599   71.2833     C        C  \n",
              "2       0  STON/O2. 3101282    7.9250    an        S  \n",
              "3       0            113803   53.1000     C        S  \n",
              "4       0            373450    8.0500    an        S  \n",
              "5       0            330877    8.4583    an        Q  \n",
              "6       0             17463   51.8625     E        S  \n",
              "7       1            349909   21.0750    an        S  \n",
              "8       2            347742   11.1333    an        S  \n",
              "9       0            237736   30.0708    an        C  \n",
              "10      1           PP 9549   16.7000     G        S  \n",
              "11      0            113783   26.5500     C        S  \n",
              "12      0         A/5. 2151    8.0500    an        S  \n",
              "13      5            347082   31.2750    an        S  \n",
              "14      0            350406    7.8542    an        S  \n",
              "15      0            248706   16.0000    an        S  \n",
              "16      1            382652   29.1250    an        Q  \n",
              "17      0            244373   13.0000    an        S  \n",
              "18      0            345763   18.0000    an        S  \n",
              "19      0              2649    7.2250    an        C  \n",
              "20      0            239865   26.0000    an        S  \n",
              "21      0            248698   13.0000     D        S  \n",
              "22      0            330923    8.0292    an        Q  \n",
              "23      0            113788   35.5000     A        S  \n",
              "24      1            349909   21.0750    an        S  \n",
              "25      5            347077   31.3875    an        S  \n",
              "26      0              2631    7.2250    an        C  \n",
              "27      2             19950  263.0000     C        S  \n",
              "28      0            330959    7.8792    an        Q  \n",
              "29      0            349216    7.8958    an        S  "
            ]
          },
          "execution_count": 310,
          "metadata": {},
          "output_type": "execute_result"
        }
      ],
      "source": [
        "cabindf.head(30)"
      ]
    },
    {
      "cell_type": "code",
      "execution_count": 311,
      "id": "M0r6GoUtNhej",
      "metadata": {
        "colab": {
          "base_uri": "https://localhost:8080/"
        },
        "id": "M0r6GoUtNhej",
        "outputId": "83c57a53-3e6b-4e43-ecde-e071e61243fb"
      },
      "outputs": [
        {
          "name": "stdout",
          "output_type": "stream",
          "text": [
            "an    687\n",
            "C      59\n",
            "B      47\n",
            "D      33\n",
            "E      32\n",
            "A      15\n",
            "F       9\n",
            "G       4\n",
            "FG      3\n",
            "FE      1\n",
            "T       1\n",
            "Name: Cabin, dtype: int64\n"
          ]
        }
      ],
      "source": [
        "Totaal_cabin = cabindf['Cabin'].value_counts()\n",
        "print(Totaal_cabin)"
      ]
    },
    {
      "cell_type": "code",
      "execution_count": 312,
      "id": "Z1dnC750LIMa",
      "metadata": {
        "colab": {
          "base_uri": "https://localhost:8080/"
        },
        "id": "Z1dnC750LIMa",
        "outputId": "f133426c-8e7e-4dc9-d58a-785a8af8a90e"
      },
      "outputs": [
        {
          "name": "stdout",
          "output_type": "stream",
          "text": [
            "an    206\n",
            "C      35\n",
            "B      35\n",
            "D      25\n",
            "E      24\n",
            "A       7\n",
            "F       7\n",
            "G       2\n",
            "FE      1\n",
            "Name: Cabin, dtype: int64\n"
          ]
        }
      ],
      "source": [
        "D_Cabin = cabindf.loc[cabindf['Survived']==1]['Cabin'].value_counts()\n",
        "print(D_Cabin)\n",
        "\n"
      ]
    },
    {
      "cell_type": "code",
      "execution_count": 313,
      "id": "U2r1PUfAYIBP",
      "metadata": {
        "colab": {
          "base_uri": "https://localhost:8080/",
          "height": 287
        },
        "id": "U2r1PUfAYIBP",
        "outputId": "2d2c65f8-747f-4903-bffb-79826bde9fe7"
      },
      "outputs": [
        {
          "ename": "AttributeError",
          "evalue": "'Series' object has no attribute 'Cabin'",
          "output_type": "error",
          "traceback": [
            "\u001b[0;31m---------------------------------------------------------------------------\u001b[0m",
            "\u001b[0;31mAttributeError\u001b[0m                            Traceback (most recent call last)",
            "\u001b[0;32m/tmp/ipykernel_14425/2377349975.py\u001b[0m in \u001b[0;36m<module>\u001b[0;34m\u001b[0m\n\u001b[0;32m----> 1\u001b[0;31m \u001b[0mCC\u001b[0m \u001b[0;34m=\u001b[0m \u001b[0mD_Cabin\u001b[0m\u001b[0;34m.\u001b[0m\u001b[0mCabin\u001b[0m\u001b[0;34m.\u001b[0m\u001b[0mcount\u001b[0m\u001b[0;34m(\u001b[0m\u001b[0;34m)\u001b[0m\u001b[0;34m\u001b[0m\u001b[0;34m\u001b[0m\u001b[0m\n\u001b[0m",
            "\u001b[0;32m~/anaconda3/lib/python3.9/site-packages/pandas/core/generic.py\u001b[0m in \u001b[0;36m__getattr__\u001b[0;34m(self, name)\u001b[0m\n\u001b[1;32m   5573\u001b[0m         ):\n\u001b[1;32m   5574\u001b[0m             \u001b[0;32mreturn\u001b[0m \u001b[0mself\u001b[0m\u001b[0;34m[\u001b[0m\u001b[0mname\u001b[0m\u001b[0;34m]\u001b[0m\u001b[0;34m\u001b[0m\u001b[0;34m\u001b[0m\u001b[0m\n\u001b[0;32m-> 5575\u001b[0;31m         \u001b[0;32mreturn\u001b[0m \u001b[0mobject\u001b[0m\u001b[0;34m.\u001b[0m\u001b[0m__getattribute__\u001b[0m\u001b[0;34m(\u001b[0m\u001b[0mself\u001b[0m\u001b[0;34m,\u001b[0m \u001b[0mname\u001b[0m\u001b[0;34m)\u001b[0m\u001b[0;34m\u001b[0m\u001b[0;34m\u001b[0m\u001b[0m\n\u001b[0m\u001b[1;32m   5576\u001b[0m \u001b[0;34m\u001b[0m\u001b[0m\n\u001b[1;32m   5577\u001b[0m     \u001b[0;32mdef\u001b[0m \u001b[0m__setattr__\u001b[0m\u001b[0;34m(\u001b[0m\u001b[0mself\u001b[0m\u001b[0;34m,\u001b[0m \u001b[0mname\u001b[0m\u001b[0;34m:\u001b[0m \u001b[0mstr\u001b[0m\u001b[0;34m,\u001b[0m \u001b[0mvalue\u001b[0m\u001b[0;34m)\u001b[0m \u001b[0;34m->\u001b[0m \u001b[0;32mNone\u001b[0m\u001b[0;34m:\u001b[0m\u001b[0;34m\u001b[0m\u001b[0;34m\u001b[0m\u001b[0m\n",
            "\u001b[0;31mAttributeError\u001b[0m: 'Series' object has no attribute 'Cabin'"
          ]
        }
      ],
      "source": [
        "CC = D_Cabin.Cabin.count()"
      ]
    },
    {
      "cell_type": "code",
      "execution_count": null,
      "id": "rsMx4bHx0Rre",
      "metadata": {
        "colab": {
          "base_uri": "https://localhost:8080/"
        },
        "id": "rsMx4bHx0Rre",
        "outputId": "0539d46d-6a46-4a29-8497-69ff439ebcd2"
      },
      "outputs": [
        {
          "name": "stdout",
          "output_type": "stream",
          "text": [
            "{'cabin_totals': na    687\n",
            "C      59\n",
            "B      47\n",
            "D      33\n",
            "E      32\n",
            "A      15\n",
            "F       9\n",
            "G       4\n",
            "FG      3\n",
            "FE      1\n",
            "T       1\n",
            "Name: Cabin, dtype: int64, 'cabin_survived': na    206\n",
            "C      35\n",
            "B      35\n",
            "D      25\n",
            "E      24\n",
            "A       7\n",
            "F       7\n",
            "G       2\n",
            "FE      1\n",
            "Name: Cabin, dtype: int64}\n",
            "   cabin_totals  cabin_survived  cabin_survival_rate\n",
            "A            15             7.0             0.466667\n",
            "B            47            35.0             0.744681\n",
            "C            59            35.0             0.593220\n",
            "D            33            25.0             0.757576\n",
            "E            32            24.0             0.750000\n"
          ]
        }
      ],
      "source": [
        "cabin_data = {\n",
        "    'cabin_totals': Totaal_cabin,\n",
        "    'cabin_survived': D_Cabin\n",
        "}\n",
        "print(cabin_data)\n",
        "cabin_data_df = pd.DataFrame(cabin_data)\n",
        "cabin_data_df['cabin_survival_rate'] = cabin_data_df['cabin_survived'] / cabin_data_df['cabin_totals']\n",
        "print(cabin_data_df.head())"
      ]
    },
    {
      "cell_type": "code",
      "execution_count": null,
      "id": "gV98ahbbP7ks",
      "metadata": {
        "id": "gV98ahbbP7ks"
      },
      "outputs": [],
      "source": []
    }
  ],
  "metadata": {
    "colab": {
      "provenance": []
    },
    "kernelspec": {
      "display_name": "base",
      "language": "python",
      "name": "python3"
    },
    "language_info": {
      "codemirror_mode": {
        "name": "ipython",
        "version": 3
      },
      "file_extension": ".py",
      "mimetype": "text/x-python",
      "name": "python",
      "nbconvert_exporter": "python",
      "pygments_lexer": "ipython3",
      "version": "3.9.13"
    },
    "vscode": {
      "interpreter": {
        "hash": "659b01471021245eb55f54a0e1441307cfa33999151435f46eaa9ffec0da2ed9"
      }
    }
  },
  "nbformat": 4,
  "nbformat_minor": 5
}
